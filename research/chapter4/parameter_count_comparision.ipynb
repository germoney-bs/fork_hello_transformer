{
 "cells": [
  {
   "cell_type": "markdown",
   "id": "1cd7e3d8",
   "metadata": {},
   "source": [
    "## BERT vs ALBERT 파라미터 개수 비교"
   ]
  },
  {
   "cell_type": "code",
   "execution_count": 1,
   "id": "c587aea1",
   "metadata": {},
   "outputs": [],
   "source": [
    "from transformers import BertModel, AlbertModel"
   ]
  },
  {
   "cell_type": "code",
   "execution_count": 2,
   "id": "368e293c",
   "metadata": {},
   "outputs": [
    {
     "data": {
      "application/vnd.jupyter.widget-view+json": {
       "model_id": "440289f78a7a433f814b67bb0dd61d85",
       "version_major": 2,
       "version_minor": 0
      },
      "text/plain": [
       "Downloading:   0%|          | 0.00/570 [00:00<?, ?B/s]"
      ]
     },
     "metadata": {},
     "output_type": "display_data"
    },
    {
     "data": {
      "application/vnd.jupyter.widget-view+json": {
       "model_id": "5ff39c30de504fec809737e0e7d8383a",
       "version_major": 2,
       "version_minor": 0
      },
      "text/plain": [
       "Downloading:   0%|          | 0.00/440M [00:00<?, ?B/s]"
      ]
     },
     "metadata": {},
     "output_type": "display_data"
    },
    {
     "data": {
      "application/vnd.jupyter.widget-view+json": {
       "model_id": "1a01f4d5405948fda69003ff16fb23e0",
       "version_major": 2,
       "version_minor": 0
      },
      "text/plain": [
       "Downloading:   0%|          | 0.00/684 [00:00<?, ?B/s]"
      ]
     },
     "metadata": {},
     "output_type": "display_data"
    },
    {
     "data": {
      "application/vnd.jupyter.widget-view+json": {
       "model_id": "162cf933ccbe4eec9355900d369eb86c",
       "version_major": 2,
       "version_minor": 0
      },
      "text/plain": [
       "Downloading:   0%|          | 0.00/47.4M [00:00<?, ?B/s]"
      ]
     },
     "metadata": {},
     "output_type": "display_data"
    }
   ],
   "source": [
    "bert = BertModel.from_pretrained('bert-base-uncased')\n",
    "albert = AlbertModel.from_pretrained('albert-base-v2')"
   ]
  },
  {
   "cell_type": "code",
   "execution_count": 3,
   "id": "ec77b121",
   "metadata": {},
   "outputs": [],
   "source": [
    "def num_model_param(m):\n",
    "    return sum(mi.numel() for mi in m.parameters())"
   ]
  },
  {
   "cell_type": "markdown",
   "id": "14723b2b",
   "metadata": {},
   "source": [
    "### 1. 임베딩 파라미터 개수 비교"
   ]
  },
  {
   "cell_type": "code",
   "execution_count": 4,
   "id": "6cbd9471",
   "metadata": {},
   "outputs": [
    {
     "name": "stdout",
     "output_type": "stream",
     "text": [
      "number of BERT Embedding parameters: 23837184\n",
      "number of ALBERT Embedding parameters: 4005120\n"
     ]
    }
   ],
   "source": [
    "albert_embedding = num_model_param(albert.encoder.embedding_hidden_mapping_in) + num_model_param(albert.embeddings)\n",
    "bert_embedding = num_model_param(bert.embeddings)\n",
    "print('number of BERT Embedding parameters: {}'.format(bert_embedding))\n",
    "print('number of ALBERT Embedding parameters: {}'.format(albert_embedding))"
   ]
  },
  {
   "cell_type": "markdown",
   "id": "fc91c251",
   "metadata": {},
   "source": [
    "### 2. 인코더 파라미터 개수 비교"
   ]
  },
  {
   "cell_type": "code",
   "execution_count": 5,
   "id": "22fee52e",
   "metadata": {},
   "outputs": [
    {
     "name": "stdout",
     "output_type": "stream",
     "text": [
      "number of BERT Encoder parameters: 85054464\n",
      "number of ALBERT Encoder parameters: 7186944\n"
     ]
    }
   ],
   "source": [
    "bert_encoder = num_model_param(bert.encoder)\n",
    "albert_encoder = num_model_param(albert.encoder)\n",
    "\n",
    "print('number of BERT Encoder parameters: {}'.format(bert_encoder))\n",
    "print('number of ALBERT Encoder parameters: {}'.format(albert_encoder))"
   ]
  },
  {
   "cell_type": "code",
   "execution_count": null,
   "id": "77087bfa",
   "metadata": {},
   "outputs": [],
   "source": []
  }
 ],
 "metadata": {
  "kernelspec": {
   "display_name": "Python 3 (ipykernel)",
   "language": "python",
   "name": "python3"
  },
  "language_info": {
   "codemirror_mode": {
    "name": "ipython",
    "version": 3
   },
   "file_extension": ".py",
   "mimetype": "text/x-python",
   "name": "python",
   "nbconvert_exporter": "python",
   "pygments_lexer": "ipython3",
   "version": "3.9.7"
  }
 },
 "nbformat": 4,
 "nbformat_minor": 5
}
