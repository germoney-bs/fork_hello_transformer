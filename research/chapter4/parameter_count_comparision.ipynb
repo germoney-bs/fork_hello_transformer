{
 "cells": [
  {
   "cell_type": "markdown",
   "id": "1cd7e3d8",
   "metadata": {},
   "source": [
    "## BERT vs ALBERT 파라미터 개수 비교"
   ]
  },
  {
   "cell_type": "code",
   "execution_count": 1,
   "id": "c587aea1",
   "metadata": {},
   "outputs": [],
   "source": [
    "from transformers import BertModel, AlbertModel"
   ]
  },
  {
   "cell_type": "code",
   "execution_count": 2,
   "id": "368e293c",
   "metadata": {},
   "outputs": [],
   "source": [
    "bert = BertModel.from_pretrained('bert-base-uncased')\n",
    "albert = AlbertModel.from_pretrained('albert-base-v2')"
   ]
  },
  {
   "cell_type": "code",
   "execution_count": 3,
   "id": "ec77b121",
   "metadata": {},
   "outputs": [],
   "source": [
    "def num_model_param(m):\n",
    "    return sum(mi.numel() for mi in m.parameters())"
   ]
  },
  {
   "cell_type": "markdown",
   "id": "14723b2b",
   "metadata": {},
   "source": [
    "### 1. 임베딩 파라미터 개수 비교"
   ]
  },
  {
   "cell_type": "code",
   "execution_count": 5,
   "id": "6cbd9471",
   "metadata": {},
   "outputs": [
    {
     "name": "stdout",
     "output_type": "stream",
     "text": [
      "number of BERT Embedding parameters: 23837184\n",
      "number of ALBERT Embedding parameters: 4005120\n"
     ]
    }
   ],
   "source": [
    "albert_embedding = num_model_param(albert.encoder.embedding_hidden_mapping_in) + num_model_param(albert.embeddings)\n",
    "bert_embedding = num_model_param(bert.embeddings)\n",
    "print('number of BERT Embedding parameters: {}'.format(bert_embedding))\n",
    "print('number of ALBERT Embedding parameters: {}'.format(albert_embedding))"
   ]
  },
  {
   "cell_type": "markdown",
   "id": "fc91c251",
   "metadata": {},
   "source": [
    "### 2. 인코더 파라미터 개수 비교"
   ]
  },
  {
   "cell_type": "code",
   "execution_count": 4,
   "id": "22fee52e",
   "metadata": {},
   "outputs": [
    {
     "name": "stdout",
     "output_type": "stream",
     "text": [
      "number of BERT Encoder parameters: 85054464\n",
      "number of ALBERT Encoder parameters: 7186944\n"
     ]
    }
   ],
   "source": [
    "bert_encoder = num_model_param(bert.encoder)\n",
    "albert_encoder = num_model_param(albert.encoder)\n",
    "\n",
    "print('number of BERT Encoder parameters: {}'.format(bert_encoder))\n",
    "print('number of ALBERT Encoder parameters: {}'.format(albert_encoder))"
   ]
  },
  {
   "cell_type": "code",
   "execution_count": null,
   "id": "77087bfa",
   "metadata": {},
   "outputs": [],
   "source": []
  }
 ],
 "metadata": {
  "kernelspec": {
   "display_name": "env_pub",
   "language": "python",
   "name": "env_pub"
  },
  "language_info": {
   "codemirror_mode": {
    "name": "ipython",
    "version": 3
   },
   "file_extension": ".py",
   "mimetype": "text/x-python",
   "name": "python",
   "nbconvert_exporter": "python",
   "pygments_lexer": "ipython3",
   "version": "3.6.9"
  }
 },
 "nbformat": 4,
 "nbformat_minor": 5
}
