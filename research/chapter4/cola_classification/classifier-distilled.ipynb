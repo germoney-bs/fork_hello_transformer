{
 "cells": [
  {
   "cell_type": "code",
   "execution_count": 1,
   "id": "bd4f1bb6",
   "metadata": {},
   "outputs": [],
   "source": [
    "import os\n",
    "import torch\n",
    "import pandas as pd\n",
    "import numpy as np\n",
    "from torch import nn\n",
    "from torch.utils.data import Dataset, DataLoader\n",
    "from transformers import BertTokenizer\n",
    "from torch.nn.utils.rnn import pad_sequence\n",
    "from transformers import DistilBertForSequenceClassification, DistilBertTokenizer, AdamW\n",
    "from tqdm import tqdm"
   ]
  },
  {
   "cell_type": "markdown",
   "id": "4088c0dd",
   "metadata": {},
   "source": [
    "### Dataset 및 DataLoader 생성"
   ]
  },
  {
   "cell_type": "raw",
   "id": "44d29047",
   "metadata": {},
   "source": [
    "다운로드된 데이터를 이용해서 CoLADataset을 생성 후 DataLoader를 생성하는 코드"
   ]
  },
  {
   "cell_type": "code",
   "execution_count": 2,
   "id": "4894e2af",
   "metadata": {},
   "outputs": [],
   "source": [
    "# 반드시 do_lower_case=True로 해야 한다.\n",
    "# bert-base-uncased는 영어 데이터를 소문자로 변환해서 학습한 모델이기 때문이다.\n",
    "tokenizer = DistilBertTokenizer.from_pretrained('distilbert-base-uncased')"
   ]
  },
  {
   "cell_type": "code",
   "execution_count": 3,
   "id": "6fadee24",
   "metadata": {},
   "outputs": [],
   "source": [
    "class CoLADataset(Dataset):\n",
    "    def __init__(self, path, tokenizer, is_train=True, is_inference=False):\n",
    "        '''\n",
    "        path: CoLA 데이터셋 위치\n",
    "        tokenizer: CoLA 데이터셋을 토크나이징할 토크나이저, ex) BertTokenizer\n",
    "        is_train: CoLADataset을 정의하는 목적이 모델 학습용일 경우 True, 그렇지 않으면 False\n",
    "        is_inference: CoLADataset을 정의하는 목적이 인퍼런스용일 경우 True, 그렇지 않으면 False\n",
    "        '''\n",
    "        \n",
    "        if is_train:\n",
    "            filename = os.path.join(path, 'raw/in_domain_train.tsv')\n",
    "        else:\n",
    "            if is_inference:\n",
    "                filename = os.path.join(path, 'raw/out_of_domain_dev.tsv')\n",
    "            else:\n",
    "                filename = os.path.join(path, 'raw/in_domain_dev.tsv')\n",
    "        df = pd.read_csv(filename, sep='\\t', names=['source', 'label', 'judgement', 'text'])\n",
    "        self.input_ids = []\n",
    "        self.attention_mask = []\n",
    "        for t in df.text:\n",
    "            inp = tokenizer(t, return_tensors='pt')\n",
    "            self.input_ids.append(inp['input_ids'])\n",
    "            self.attention_mask.append(inp['attention_mask'])\n",
    "        self.label = df.label\n",
    "        \n",
    "    def __len__(self):\n",
    "        return len(self.input_ids)\n",
    "    \n",
    "    def __getitem__(self, idx):\n",
    "        return [self.input_ids[idx], self.attention_mask[idx], self.label[idx]]"
   ]
  },
  {
   "cell_type": "code",
   "execution_count": 4,
   "id": "fdefcbc1",
   "metadata": {},
   "outputs": [],
   "source": [
    "train_dataset = CoLADataset('../../../data/cola_classification', tokenizer)\n",
    "eval_dataset = CoLADataset('../../../data/cola_classification', tokenizer, is_train=False)"
   ]
  },
  {
   "cell_type": "code",
   "execution_count": 5,
   "id": "adf7a46c",
   "metadata": {},
   "outputs": [
    {
     "data": {
      "text/plain": [
       "(8551, 527)"
      ]
     },
     "execution_count": 5,
     "metadata": {},
     "output_type": "execute_result"
    }
   ],
   "source": [
    "len(train_dataset), len(eval_dataset)"
   ]
  },
  {
   "cell_type": "code",
   "execution_count": 6,
   "id": "ab6e7f16",
   "metadata": {},
   "outputs": [],
   "source": [
    "def collate_fn(batch):\n",
    "    input_ids = [b[0][0] for b in batch]\n",
    "    attention_mask = [b[1][0] for b in batch]\n",
    "    label = torch.tensor([b[2] for b in batch])\n",
    "    input_ids = pad_sequence(input_ids, batch_first=True)\n",
    "    attention_mask = pad_sequence(attention_mask, batch_first=True)\n",
    "    return input_ids, attention_mask, label"
   ]
  },
  {
   "cell_type": "code",
   "execution_count": 7,
   "id": "4faf6a91",
   "metadata": {},
   "outputs": [],
   "source": [
    "# collate_fn은 batch 단위의 데이터에 적용해야 하는 작업을 수행할 때 사용하면 된다.\n",
    "# 가령, 모델의 입력 데이터 사이즈는 일정해야 하기 때문에 pad_sequence 등의 함수를 통해 길이를 맞춰줘야 한다.\n",
    "# 이 작업을 Dataset에서 할 경우 불필요하게 메모리를 많이 사용하게 되기 때문에\n",
    "# collate_fn을 이용해서 각 batch가 생성될 때마다 pad_sequence를 적용해주는 것이다.\n",
    "train_dataloader = DataLoader(train_dataset, collate_fn=collate_fn, batch_size=32, shuffle=True)"
   ]
  },
  {
   "cell_type": "code",
   "execution_count": 8,
   "id": "0b17ed93",
   "metadata": {},
   "outputs": [
    {
     "name": "stdout",
     "output_type": "stream",
     "text": [
      "torch.Size([32, 17]) torch.Size([32, 17]) torch.Size([32])\n",
      "torch.Size([32, 29]) torch.Size([32, 29]) torch.Size([32])\n",
      "torch.Size([32, 22]) torch.Size([32, 22]) torch.Size([32])\n",
      "torch.Size([32, 23]) torch.Size([32, 23]) torch.Size([32])\n",
      "torch.Size([32, 23]) torch.Size([32, 23]) torch.Size([32])\n",
      "torch.Size([32, 18]) torch.Size([32, 18]) torch.Size([32])\n",
      "torch.Size([32, 22]) torch.Size([32, 22]) torch.Size([32])\n",
      "torch.Size([32, 26]) torch.Size([32, 26]) torch.Size([32])\n",
      "torch.Size([32, 20]) torch.Size([32, 20]) torch.Size([32])\n",
      "torch.Size([32, 19]) torch.Size([32, 19]) torch.Size([32])\n",
      "torch.Size([32, 26]) torch.Size([32, 26]) torch.Size([32])\n"
     ]
    }
   ],
   "source": [
    "for i, d in enumerate(train_dataloader):\n",
    "    if i > 10:\n",
    "        break\n",
    "    input_ids, attention_mask, labels = d\n",
    "    print(input_ids.shape, attention_mask.shape, labels.shape)"
   ]
  },
  {
   "cell_type": "code",
   "execution_count": null,
   "id": "ec6fd34c",
   "metadata": {},
   "outputs": [],
   "source": []
  },
  {
   "cell_type": "markdown",
   "id": "f2c4fce3",
   "metadata": {},
   "source": [
    "### Train"
   ]
  },
  {
   "cell_type": "markdown",
   "id": "535a993a",
   "metadata": {},
   "source": [
    "모델을 학습하는 코드"
   ]
  },
  {
   "cell_type": "code",
   "execution_count": 9,
   "id": "c8a8e6af",
   "metadata": {},
   "outputs": [
    {
     "name": "stderr",
     "output_type": "stream",
     "text": [
      "Some weights of the model checkpoint at distilbert-base-uncased were not used when initializing DistilBertForSequenceClassification: ['vocab_transform.weight', 'vocab_transform.bias', 'vocab_layer_norm.weight', 'vocab_layer_norm.bias', 'vocab_projector.weight', 'vocab_projector.bias']\n",
      "- This IS expected if you are initializing DistilBertForSequenceClassification from the checkpoint of a model trained on another task or with another architecture (e.g. initializing a BertForSequenceClassification model from a BertForPreTraining model).\n",
      "- This IS NOT expected if you are initializing DistilBertForSequenceClassification from the checkpoint of a model that you expect to be exactly identical (initializing a BertForSequenceClassification model from a BertForSequenceClassification model).\n",
      "Some weights of DistilBertForSequenceClassification were not initialized from the model checkpoint at distilbert-base-uncased and are newly initialized: ['pre_classifier.weight', 'pre_classifier.bias', 'classifier.weight', 'classifier.bias']\n",
      "You should probably TRAIN this model on a down-stream task to be able to use it for predictions and inference.\n"
     ]
    },
    {
     "data": {
      "text/plain": [
       "DistilBertForSequenceClassification(\n",
       "  (distilbert): DistilBertModel(\n",
       "    (embeddings): Embeddings(\n",
       "      (word_embeddings): Embedding(30522, 768, padding_idx=0)\n",
       "      (position_embeddings): Embedding(512, 768)\n",
       "      (LayerNorm): LayerNorm((768,), eps=1e-12, elementwise_affine=True)\n",
       "      (dropout): Dropout(p=0.1, inplace=False)\n",
       "    )\n",
       "    (transformer): Transformer(\n",
       "      (layer): ModuleList(\n",
       "        (0): TransformerBlock(\n",
       "          (attention): MultiHeadSelfAttention(\n",
       "            (dropout): Dropout(p=0.1, inplace=False)\n",
       "            (q_lin): Linear(in_features=768, out_features=768, bias=True)\n",
       "            (k_lin): Linear(in_features=768, out_features=768, bias=True)\n",
       "            (v_lin): Linear(in_features=768, out_features=768, bias=True)\n",
       "            (out_lin): Linear(in_features=768, out_features=768, bias=True)\n",
       "          )\n",
       "          (sa_layer_norm): LayerNorm((768,), eps=1e-12, elementwise_affine=True)\n",
       "          (ffn): FFN(\n",
       "            (dropout): Dropout(p=0.1, inplace=False)\n",
       "            (lin1): Linear(in_features=768, out_features=3072, bias=True)\n",
       "            (lin2): Linear(in_features=3072, out_features=768, bias=True)\n",
       "          )\n",
       "          (output_layer_norm): LayerNorm((768,), eps=1e-12, elementwise_affine=True)\n",
       "        )\n",
       "        (1): TransformerBlock(\n",
       "          (attention): MultiHeadSelfAttention(\n",
       "            (dropout): Dropout(p=0.1, inplace=False)\n",
       "            (q_lin): Linear(in_features=768, out_features=768, bias=True)\n",
       "            (k_lin): Linear(in_features=768, out_features=768, bias=True)\n",
       "            (v_lin): Linear(in_features=768, out_features=768, bias=True)\n",
       "            (out_lin): Linear(in_features=768, out_features=768, bias=True)\n",
       "          )\n",
       "          (sa_layer_norm): LayerNorm((768,), eps=1e-12, elementwise_affine=True)\n",
       "          (ffn): FFN(\n",
       "            (dropout): Dropout(p=0.1, inplace=False)\n",
       "            (lin1): Linear(in_features=768, out_features=3072, bias=True)\n",
       "            (lin2): Linear(in_features=3072, out_features=768, bias=True)\n",
       "          )\n",
       "          (output_layer_norm): LayerNorm((768,), eps=1e-12, elementwise_affine=True)\n",
       "        )\n",
       "        (2): TransformerBlock(\n",
       "          (attention): MultiHeadSelfAttention(\n",
       "            (dropout): Dropout(p=0.1, inplace=False)\n",
       "            (q_lin): Linear(in_features=768, out_features=768, bias=True)\n",
       "            (k_lin): Linear(in_features=768, out_features=768, bias=True)\n",
       "            (v_lin): Linear(in_features=768, out_features=768, bias=True)\n",
       "            (out_lin): Linear(in_features=768, out_features=768, bias=True)\n",
       "          )\n",
       "          (sa_layer_norm): LayerNorm((768,), eps=1e-12, elementwise_affine=True)\n",
       "          (ffn): FFN(\n",
       "            (dropout): Dropout(p=0.1, inplace=False)\n",
       "            (lin1): Linear(in_features=768, out_features=3072, bias=True)\n",
       "            (lin2): Linear(in_features=3072, out_features=768, bias=True)\n",
       "          )\n",
       "          (output_layer_norm): LayerNorm((768,), eps=1e-12, elementwise_affine=True)\n",
       "        )\n",
       "        (3): TransformerBlock(\n",
       "          (attention): MultiHeadSelfAttention(\n",
       "            (dropout): Dropout(p=0.1, inplace=False)\n",
       "            (q_lin): Linear(in_features=768, out_features=768, bias=True)\n",
       "            (k_lin): Linear(in_features=768, out_features=768, bias=True)\n",
       "            (v_lin): Linear(in_features=768, out_features=768, bias=True)\n",
       "            (out_lin): Linear(in_features=768, out_features=768, bias=True)\n",
       "          )\n",
       "          (sa_layer_norm): LayerNorm((768,), eps=1e-12, elementwise_affine=True)\n",
       "          (ffn): FFN(\n",
       "            (dropout): Dropout(p=0.1, inplace=False)\n",
       "            (lin1): Linear(in_features=768, out_features=3072, bias=True)\n",
       "            (lin2): Linear(in_features=3072, out_features=768, bias=True)\n",
       "          )\n",
       "          (output_layer_norm): LayerNorm((768,), eps=1e-12, elementwise_affine=True)\n",
       "        )\n",
       "        (4): TransformerBlock(\n",
       "          (attention): MultiHeadSelfAttention(\n",
       "            (dropout): Dropout(p=0.1, inplace=False)\n",
       "            (q_lin): Linear(in_features=768, out_features=768, bias=True)\n",
       "            (k_lin): Linear(in_features=768, out_features=768, bias=True)\n",
       "            (v_lin): Linear(in_features=768, out_features=768, bias=True)\n",
       "            (out_lin): Linear(in_features=768, out_features=768, bias=True)\n",
       "          )\n",
       "          (sa_layer_norm): LayerNorm((768,), eps=1e-12, elementwise_affine=True)\n",
       "          (ffn): FFN(\n",
       "            (dropout): Dropout(p=0.1, inplace=False)\n",
       "            (lin1): Linear(in_features=768, out_features=3072, bias=True)\n",
       "            (lin2): Linear(in_features=3072, out_features=768, bias=True)\n",
       "          )\n",
       "          (output_layer_norm): LayerNorm((768,), eps=1e-12, elementwise_affine=True)\n",
       "        )\n",
       "        (5): TransformerBlock(\n",
       "          (attention): MultiHeadSelfAttention(\n",
       "            (dropout): Dropout(p=0.1, inplace=False)\n",
       "            (q_lin): Linear(in_features=768, out_features=768, bias=True)\n",
       "            (k_lin): Linear(in_features=768, out_features=768, bias=True)\n",
       "            (v_lin): Linear(in_features=768, out_features=768, bias=True)\n",
       "            (out_lin): Linear(in_features=768, out_features=768, bias=True)\n",
       "          )\n",
       "          (sa_layer_norm): LayerNorm((768,), eps=1e-12, elementwise_affine=True)\n",
       "          (ffn): FFN(\n",
       "            (dropout): Dropout(p=0.1, inplace=False)\n",
       "            (lin1): Linear(in_features=768, out_features=3072, bias=True)\n",
       "            (lin2): Linear(in_features=3072, out_features=768, bias=True)\n",
       "          )\n",
       "          (output_layer_norm): LayerNorm((768,), eps=1e-12, elementwise_affine=True)\n",
       "        )\n",
       "      )\n",
       "    )\n",
       "  )\n",
       "  (pre_classifier): Linear(in_features=768, out_features=768, bias=True)\n",
       "  (classifier): Linear(in_features=768, out_features=2, bias=True)\n",
       "  (dropout): Dropout(p=0.2, inplace=False)\n",
       ")"
      ]
     },
     "execution_count": 9,
     "metadata": {},
     "output_type": "execute_result"
    }
   ],
   "source": [
    "# Load BertForSequenceClassification, the pretrained BERT model with a single \n",
    "# linear classification layer on top. \n",
    "model = DistilBertForSequenceClassification.from_pretrained(\"distilbert-base-uncased\", num_labels = 2).cuda()\n",
    "model.train()"
   ]
  },
  {
   "cell_type": "code",
   "execution_count": 10,
   "id": "7cc198ec",
   "metadata": {},
   "outputs": [],
   "source": [
    "# Optimizer와 Loss 함수는 가장 일반적인 것으로 정의했다.\n",
    "# 이 노트북 파일의 목적은 BERT를 이용해서 높은 성능의 모델을 간편하게 만들 수 있다는 것을 보여주기 위함이다.\n",
    "# Optimizer와 Loss를 최적화할 경우 좋은 성능이 나온 이유를 잘 설명할 수 없다.\n",
    "optimizer = AdamW(model.parameters(), lr = 2e-5, eps = 1e-8)\n",
    "loss = nn.CrossEntropyLoss()"
   ]
  },
  {
   "cell_type": "code",
   "execution_count": 11,
   "id": "aac186eb",
   "metadata": {},
   "outputs": [],
   "source": [
    "n_epoch = 200"
   ]
  },
  {
   "cell_type": "code",
   "execution_count": 12,
   "id": "f327b26e",
   "metadata": {},
   "outputs": [],
   "source": [
    "def train(model, dataloader, optimizer):\n",
    "    tbar = tqdm(dataloader, desc='Training', leave=True)\n",
    "    \n",
    "    total_loss = 0.0\n",
    "    for i, d in enumerate(tbar):\n",
    "        optimizer.zero_grad()\n",
    "        input_ids, attention_mask, labels = d\n",
    "        \n",
    "        # to cuda\n",
    "        input_ids = input_ids.cuda()\n",
    "        attention_mask = attention_mask.cuda()\n",
    "        labels = labels.cuda()\n",
    "        \n",
    "        # train model\n",
    "        out = model(input_ids=input_ids, attention_mask=attention_mask, labels=labels)\n",
    "        loss = out[0]\n",
    "        \n",
    "        #print('before backward: {}'.format(loss))\n",
    "        loss.backward()\n",
    "        #print('after backward: {}'.format(loss))\n",
    "        \n",
    "        optimizer.step()\n",
    "        \n",
    "        total_loss += loss.data.item()\n",
    "        tbar.set_description(\"Average Loss = {:.4f})\".format(total_loss/(i+1)))\n",
    "        "
   ]
  },
  {
   "cell_type": "code",
   "execution_count": 13,
   "id": "10ad6a7c",
   "metadata": {},
   "outputs": [
    {
     "name": "stderr",
     "output_type": "stream",
     "text": [
      "Average Loss = 0.5235): 100%|██████████| 268/268 [00:09<00:00, 28.86it/s]\n",
      "Average Loss = 0.3391): 100%|██████████| 268/268 [00:09<00:00, 28.81it/s]\n",
      "Average Loss = 0.2148): 100%|██████████| 268/268 [00:09<00:00, 28.76it/s]\n",
      "Average Loss = 0.1436): 100%|██████████| 268/268 [00:09<00:00, 28.58it/s]\n",
      "Average Loss = 0.0985): 100%|██████████| 268/268 [00:09<00:00, 28.61it/s]\n",
      "Average Loss = 0.0785): 100%|██████████| 268/268 [00:09<00:00, 28.53it/s]\n",
      "Average Loss = 0.0529): 100%|██████████| 268/268 [00:09<00:00, 28.47it/s]\n",
      "Average Loss = 0.0556): 100%|██████████| 268/268 [00:09<00:00, 28.55it/s]\n",
      "Average Loss = 0.0499): 100%|██████████| 268/268 [00:09<00:00, 28.57it/s]\n",
      "Average Loss = 0.0364): 100%|██████████| 268/268 [00:09<00:00, 28.54it/s]\n",
      "Average Loss = 0.0326): 100%|██████████| 268/268 [00:09<00:00, 28.51it/s]\n",
      "Average Loss = 0.0318): 100%|██████████| 268/268 [00:09<00:00, 28.51it/s]\n",
      "Average Loss = 0.0310): 100%|██████████| 268/268 [00:09<00:00, 28.46it/s]\n",
      "Average Loss = 0.0265): 100%|██████████| 268/268 [00:09<00:00, 28.45it/s]\n",
      "Average Loss = 0.0234): 100%|██████████| 268/268 [00:09<00:00, 28.50it/s]\n",
      "Average Loss = 0.0205): 100%|██████████| 268/268 [00:09<00:00, 28.48it/s]\n",
      "Average Loss = 0.0202): 100%|██████████| 268/268 [00:09<00:00, 28.55it/s]\n",
      "Average Loss = 0.0234): 100%|██████████| 268/268 [00:09<00:00, 28.49it/s]\n",
      "Average Loss = 0.0217): 100%|██████████| 268/268 [00:09<00:00, 28.45it/s]\n",
      "Average Loss = 0.0205): 100%|██████████| 268/268 [00:09<00:00, 28.40it/s]\n",
      "Average Loss = 0.0198): 100%|██████████| 268/268 [00:09<00:00, 28.41it/s]\n",
      "Average Loss = 0.0194): 100%|██████████| 268/268 [00:09<00:00, 28.33it/s]\n",
      "Average Loss = 0.0209): 100%|██████████| 268/268 [00:09<00:00, 28.49it/s]\n",
      "Average Loss = 0.0162): 100%|██████████| 268/268 [00:09<00:00, 28.41it/s]\n",
      "Average Loss = 0.0187): 100%|██████████| 268/268 [00:09<00:00, 28.41it/s]\n",
      "Average Loss = 0.0125): 100%|██████████| 268/268 [00:09<00:00, 28.45it/s]\n",
      "Average Loss = 0.0170): 100%|██████████| 268/268 [00:09<00:00, 28.37it/s]\n",
      "Average Loss = 0.0137): 100%|██████████| 268/268 [00:09<00:00, 28.30it/s]\n",
      "Average Loss = 0.0145): 100%|██████████| 268/268 [00:09<00:00, 28.39it/s]\n",
      "Average Loss = 0.0131): 100%|██████████| 268/268 [00:09<00:00, 28.27it/s]\n",
      "Average Loss = 0.0141): 100%|██████████| 268/268 [00:09<00:00, 28.22it/s]\n",
      "Average Loss = 0.0155): 100%|██████████| 268/268 [00:09<00:00, 28.36it/s]\n",
      "Average Loss = 0.0127): 100%|██████████| 268/268 [00:09<00:00, 28.38it/s]\n",
      "Average Loss = 0.0092): 100%|██████████| 268/268 [00:09<00:00, 28.41it/s]\n",
      "Average Loss = 0.0128): 100%|██████████| 268/268 [00:09<00:00, 28.34it/s]\n",
      "Average Loss = 0.0139): 100%|██████████| 268/268 [00:09<00:00, 28.49it/s]\n",
      "Average Loss = 0.0082): 100%|██████████| 268/268 [00:09<00:00, 28.41it/s]\n",
      "Average Loss = 0.0111): 100%|██████████| 268/268 [00:09<00:00, 28.32it/s]\n",
      "Average Loss = 0.0096): 100%|██████████| 268/268 [00:09<00:00, 28.29it/s]\n",
      "Average Loss = 0.0109): 100%|██████████| 268/268 [00:09<00:00, 28.30it/s]\n",
      "Average Loss = 0.0164): 100%|██████████| 268/268 [00:09<00:00, 28.28it/s]\n",
      "Average Loss = 0.0147): 100%|██████████| 268/268 [00:09<00:00, 28.29it/s]\n",
      "Average Loss = 0.0121): 100%|██████████| 268/268 [00:09<00:00, 28.31it/s]\n",
      "Average Loss = 0.0181): 100%|██████████| 268/268 [00:09<00:00, 28.45it/s]\n",
      "Average Loss = 0.0081): 100%|██████████| 268/268 [00:09<00:00, 28.28it/s]\n",
      "Average Loss = 0.0072): 100%|██████████| 268/268 [00:09<00:00, 28.27it/s]\n",
      "Average Loss = 0.0143): 100%|██████████| 268/268 [00:09<00:00, 28.30it/s]\n",
      "Average Loss = 0.0090): 100%|██████████| 268/268 [00:09<00:00, 28.41it/s]\n",
      "Average Loss = 0.0078): 100%|██████████| 268/268 [00:09<00:00, 28.34it/s]\n",
      "Average Loss = 0.0108): 100%|██████████| 268/268 [00:09<00:00, 28.40it/s]\n",
      "Average Loss = 0.0134): 100%|██████████| 268/268 [00:09<00:00, 28.32it/s]\n",
      "Average Loss = 0.0088): 100%|██████████| 268/268 [00:09<00:00, 28.21it/s]\n",
      "Average Loss = 0.0102): 100%|██████████| 268/268 [00:09<00:00, 28.36it/s]\n",
      "Average Loss = 0.0164): 100%|██████████| 268/268 [00:09<00:00, 28.37it/s]\n",
      "Average Loss = 0.0120): 100%|██████████| 268/268 [00:09<00:00, 28.36it/s]\n",
      "Average Loss = 0.0075): 100%|██████████| 268/268 [00:09<00:00, 28.23it/s]\n",
      "Average Loss = 0.0069): 100%|██████████| 268/268 [00:09<00:00, 28.28it/s]\n",
      "Average Loss = 0.0077): 100%|██████████| 268/268 [00:09<00:00, 28.36it/s]\n",
      "Average Loss = 0.0110): 100%|██████████| 268/268 [00:09<00:00, 28.35it/s]\n",
      "Average Loss = 0.0077): 100%|██████████| 268/268 [00:09<00:00, 28.29it/s]\n",
      "Average Loss = 0.0060): 100%|██████████| 268/268 [00:09<00:00, 28.29it/s]\n",
      "Average Loss = 0.0066): 100%|██████████| 268/268 [00:09<00:00, 28.31it/s]\n",
      "Average Loss = 0.0072): 100%|██████████| 268/268 [00:09<00:00, 27.48it/s]\n",
      "Average Loss = 0.0060): 100%|██████████| 268/268 [00:09<00:00, 28.05it/s]\n",
      "Average Loss = 0.0103): 100%|██████████| 268/268 [00:09<00:00, 28.30it/s]\n",
      "Average Loss = 0.0143): 100%|██████████| 268/268 [00:09<00:00, 27.45it/s]\n",
      "Average Loss = 0.0103): 100%|██████████| 268/268 [00:09<00:00, 27.97it/s]\n",
      "Average Loss = 0.0074): 100%|██████████| 268/268 [00:09<00:00, 28.20it/s]\n",
      "Average Loss = 0.0142): 100%|██████████| 268/268 [00:09<00:00, 28.29it/s]\n",
      "Average Loss = 0.0141): 100%|██████████| 268/268 [00:09<00:00, 27.21it/s]\n",
      "Average Loss = 0.0123): 100%|██████████| 268/268 [00:09<00:00, 28.31it/s]\n",
      "Average Loss = 0.0083): 100%|██████████| 268/268 [00:09<00:00, 28.17it/s]\n",
      "Average Loss = 0.0053): 100%|██████████| 268/268 [00:09<00:00, 28.20it/s]\n",
      "Average Loss = 0.0078): 100%|██████████| 268/268 [00:09<00:00, 28.31it/s]\n",
      "Average Loss = 0.0109): 100%|██████████| 268/268 [00:09<00:00, 28.25it/s]\n",
      "Average Loss = 0.0059): 100%|██████████| 268/268 [00:09<00:00, 28.17it/s]\n",
      "Average Loss = 0.0084): 100%|██████████| 268/268 [00:10<00:00, 25.65it/s]\n",
      "Average Loss = 0.0066): 100%|██████████| 268/268 [00:09<00:00, 28.32it/s]\n",
      "Average Loss = 0.0079): 100%|██████████| 268/268 [00:09<00:00, 28.24it/s]\n",
      "Average Loss = 0.0069): 100%|██████████| 268/268 [00:09<00:00, 28.26it/s]\n",
      "Average Loss = 0.0073): 100%|██████████| 268/268 [00:09<00:00, 28.36it/s]\n",
      "Average Loss = 0.0065): 100%|██████████| 268/268 [00:09<00:00, 28.29it/s]\n",
      "Average Loss = 0.0087): 100%|██████████| 268/268 [00:09<00:00, 28.28it/s]\n",
      "Average Loss = 0.0154): 100%|██████████| 268/268 [00:09<00:00, 28.32it/s]\n",
      "Average Loss = 0.0083): 100%|██████████| 268/268 [00:09<00:00, 28.28it/s]\n",
      "Average Loss = 0.0056): 100%|██████████| 268/268 [00:09<00:00, 28.35it/s]\n",
      "Average Loss = 0.0037): 100%|██████████| 268/268 [00:09<00:00, 28.21it/s]\n",
      "Average Loss = 0.0028): 100%|██████████| 268/268 [00:09<00:00, 28.24it/s]\n",
      "Average Loss = 0.0087): 100%|██████████| 268/268 [00:09<00:00, 28.27it/s]\n",
      "Average Loss = 0.0074): 100%|██████████| 268/268 [00:09<00:00, 28.29it/s]\n",
      "Average Loss = 0.0048): 100%|██████████| 268/268 [00:09<00:00, 28.27it/s]\n",
      "Average Loss = 0.0079): 100%|██████████| 268/268 [00:09<00:00, 28.31it/s]\n",
      "Average Loss = 0.0068): 100%|██████████| 268/268 [00:09<00:00, 28.27it/s]\n",
      "Average Loss = 0.0046): 100%|██████████| 268/268 [00:09<00:00, 28.26it/s]\n",
      "Average Loss = 0.0064): 100%|██████████| 268/268 [00:09<00:00, 28.35it/s]\n",
      "Average Loss = 0.0055): 100%|██████████| 268/268 [00:09<00:00, 28.35it/s]\n",
      "Average Loss = 0.0109): 100%|██████████| 268/268 [00:09<00:00, 28.32it/s]\n",
      "Average Loss = 0.0084): 100%|██████████| 268/268 [00:09<00:00, 28.26it/s]\n",
      "Average Loss = 0.0094): 100%|██████████| 268/268 [00:09<00:00, 28.30it/s]\n",
      "Average Loss = 0.0051): 100%|██████████| 268/268 [00:09<00:00, 28.29it/s]\n",
      "Average Loss = 0.0069): 100%|██████████| 268/268 [00:09<00:00, 28.23it/s]\n",
      "Average Loss = 0.0054): 100%|██████████| 268/268 [00:09<00:00, 28.31it/s]\n",
      "Average Loss = 0.0059): 100%|██████████| 268/268 [00:09<00:00, 28.27it/s]\n",
      "Average Loss = 0.0046): 100%|██████████| 268/268 [00:09<00:00, 28.25it/s]\n",
      "Average Loss = 0.0078): 100%|██████████| 268/268 [00:09<00:00, 28.25it/s]\n",
      "Average Loss = 0.0074): 100%|██████████| 268/268 [00:09<00:00, 28.28it/s]\n",
      "Average Loss = 0.0056): 100%|██████████| 268/268 [00:09<00:00, 28.29it/s]\n",
      "Average Loss = 0.0060): 100%|██████████| 268/268 [00:09<00:00, 28.33it/s]\n",
      "Average Loss = 0.0045): 100%|██████████| 268/268 [00:09<00:00, 28.26it/s]\n",
      "Average Loss = 0.0073): 100%|██████████| 268/268 [00:09<00:00, 28.30it/s]\n"
     ]
    },
    {
     "name": "stderr",
     "output_type": "stream",
     "text": [
      "Average Loss = 0.0046): 100%|██████████| 268/268 [00:09<00:00, 28.42it/s]\n",
      "Average Loss = 0.0058): 100%|██████████| 268/268 [00:09<00:00, 28.21it/s]\n",
      "Average Loss = 0.0055): 100%|██████████| 268/268 [00:09<00:00, 28.23it/s]\n",
      "Average Loss = 0.0039): 100%|██████████| 268/268 [00:09<00:00, 28.25it/s]\n",
      "Average Loss = 0.0059): 100%|██████████| 268/268 [00:09<00:00, 28.36it/s]\n",
      "Average Loss = 0.0039): 100%|██████████| 268/268 [00:09<00:00, 28.26it/s]\n",
      "Average Loss = 0.0056): 100%|██████████| 268/268 [00:09<00:00, 28.24it/s]\n",
      "Average Loss = 0.0085): 100%|██████████| 268/268 [00:09<00:00, 28.26it/s]\n",
      "Average Loss = 0.0057): 100%|██████████| 268/268 [00:09<00:00, 28.35it/s]\n",
      "Average Loss = 0.0085): 100%|██████████| 268/268 [00:09<00:00, 28.27it/s]\n",
      "Average Loss = 0.0072): 100%|██████████| 268/268 [00:09<00:00, 28.28it/s]\n",
      "Average Loss = 0.0039): 100%|██████████| 268/268 [00:09<00:00, 28.39it/s]\n",
      "Average Loss = 0.0080): 100%|██████████| 268/268 [00:09<00:00, 28.18it/s]\n",
      "Average Loss = 0.0061): 100%|██████████| 268/268 [00:09<00:00, 28.22it/s]\n",
      "Average Loss = 0.0085): 100%|██████████| 268/268 [00:09<00:00, 28.31it/s]\n",
      "Average Loss = 0.0058): 100%|██████████| 268/268 [00:09<00:00, 28.38it/s]\n",
      "Average Loss = 0.0073): 100%|██████████| 268/268 [00:09<00:00, 28.27it/s]\n",
      "Average Loss = 0.0059): 100%|██████████| 268/268 [00:09<00:00, 28.28it/s]\n",
      "Average Loss = 0.0022): 100%|██████████| 268/268 [00:09<00:00, 28.32it/s]\n",
      "Average Loss = 0.0036): 100%|██████████| 268/268 [00:09<00:00, 28.37it/s]\n",
      "Average Loss = 0.0069): 100%|██████████| 268/268 [00:09<00:00, 28.37it/s]\n",
      "Average Loss = 0.0046): 100%|██████████| 268/268 [00:09<00:00, 28.20it/s]\n",
      "Average Loss = 0.0034): 100%|██████████| 268/268 [00:09<00:00, 28.33it/s]\n",
      "Average Loss = 0.0048): 100%|██████████| 268/268 [00:09<00:00, 28.24it/s]\n",
      "Average Loss = 0.0047): 100%|██████████| 268/268 [00:09<00:00, 28.17it/s]\n",
      "Average Loss = 0.0035): 100%|██████████| 268/268 [00:09<00:00, 28.42it/s]\n",
      "Average Loss = 0.0024): 100%|██████████| 268/268 [00:09<00:00, 28.26it/s]\n",
      "Average Loss = 0.0080): 100%|██████████| 268/268 [00:09<00:00, 28.34it/s]\n",
      "Average Loss = 0.0058): 100%|██████████| 268/268 [00:09<00:00, 28.22it/s]\n",
      "Average Loss = 0.0047): 100%|██████████| 268/268 [00:09<00:00, 28.25it/s]\n",
      "Average Loss = 0.0033): 100%|██████████| 268/268 [00:09<00:00, 28.29it/s]\n",
      "Average Loss = 0.0053): 100%|██████████| 268/268 [00:09<00:00, 28.21it/s]\n",
      "Average Loss = 0.0052): 100%|██████████| 268/268 [00:09<00:00, 28.34it/s]\n",
      "Average Loss = 0.0050): 100%|██████████| 268/268 [00:09<00:00, 28.31it/s]\n",
      "Average Loss = 0.0051): 100%|██████████| 268/268 [00:09<00:00, 28.26it/s]\n",
      "Average Loss = 0.0050): 100%|██████████| 268/268 [00:09<00:00, 28.39it/s]\n",
      "Average Loss = 0.0059): 100%|██████████| 268/268 [00:09<00:00, 28.20it/s]\n",
      "Average Loss = 0.0059): 100%|██████████| 268/268 [00:09<00:00, 28.16it/s]\n",
      "Average Loss = 0.0044): 100%|██████████| 268/268 [00:09<00:00, 28.33it/s]\n",
      "Average Loss = 0.0051): 100%|██████████| 268/268 [00:09<00:00, 28.27it/s]\n",
      "Average Loss = 0.0023): 100%|██████████| 268/268 [00:09<00:00, 28.25it/s]\n",
      "Average Loss = 0.0048): 100%|██████████| 268/268 [00:09<00:00, 28.25it/s]\n",
      "Average Loss = 0.0067): 100%|██████████| 268/268 [00:09<00:00, 28.24it/s]\n",
      "Average Loss = 0.0027): 100%|██████████| 268/268 [00:09<00:00, 28.36it/s]\n",
      "Average Loss = 0.0047): 100%|██████████| 268/268 [00:09<00:00, 28.35it/s]\n",
      "Average Loss = 0.0063): 100%|██████████| 268/268 [00:09<00:00, 28.29it/s]\n",
      "Average Loss = 0.0057): 100%|██████████| 268/268 [00:09<00:00, 28.21it/s]\n",
      "Average Loss = 0.0042): 100%|██████████| 268/268 [00:09<00:00, 28.16it/s]\n",
      "Average Loss = 0.0030): 100%|██████████| 268/268 [00:09<00:00, 28.19it/s]\n",
      "Average Loss = 0.0052): 100%|██████████| 268/268 [00:09<00:00, 28.27it/s]\n",
      "Average Loss = 0.0034): 100%|██████████| 268/268 [00:09<00:00, 28.25it/s]\n",
      "Average Loss = 0.0045): 100%|██████████| 268/268 [00:09<00:00, 28.19it/s]\n",
      "Average Loss = 0.0036): 100%|██████████| 268/268 [00:09<00:00, 27.60it/s]\n",
      "Average Loss = 0.0045): 100%|██████████| 268/268 [00:09<00:00, 27.72it/s]\n",
      "Average Loss = 0.0062): 100%|██████████| 268/268 [00:09<00:00, 28.22it/s]\n",
      "Average Loss = 0.0044): 100%|██████████| 268/268 [00:09<00:00, 28.29it/s]\n",
      "Average Loss = 0.0059): 100%|██████████| 268/268 [00:09<00:00, 28.39it/s]\n",
      "Average Loss = 0.0038): 100%|██████████| 268/268 [00:09<00:00, 28.44it/s]\n",
      "Average Loss = 0.0081): 100%|██████████| 268/268 [00:09<00:00, 28.33it/s]\n",
      "Average Loss = 0.0051): 100%|██████████| 268/268 [00:09<00:00, 28.22it/s]\n",
      "Average Loss = 0.0041): 100%|██████████| 268/268 [00:09<00:00, 28.28it/s]\n",
      "Average Loss = 0.0023): 100%|██████████| 268/268 [00:09<00:00, 28.31it/s]\n",
      "Average Loss = 0.0044): 100%|██████████| 268/268 [00:09<00:00, 28.28it/s]\n",
      "Average Loss = 0.0042): 100%|██████████| 268/268 [00:09<00:00, 28.19it/s]\n",
      "Average Loss = 0.0055): 100%|██████████| 268/268 [00:09<00:00, 28.39it/s]\n",
      "Average Loss = 0.0043): 100%|██████████| 268/268 [00:09<00:00, 28.34it/s]\n",
      "Average Loss = 0.0074): 100%|██████████| 268/268 [00:09<00:00, 27.32it/s]\n",
      "Average Loss = 0.0025): 100%|██████████| 268/268 [00:11<00:00, 23.10it/s]\n",
      "Average Loss = 0.0046): 100%|██████████| 268/268 [00:09<00:00, 28.28it/s]\n",
      "Average Loss = 0.0054): 100%|██████████| 268/268 [00:09<00:00, 28.36it/s]\n",
      "Average Loss = 0.0047): 100%|██████████| 268/268 [00:09<00:00, 28.24it/s]\n",
      "Average Loss = 0.0039): 100%|██████████| 268/268 [00:09<00:00, 28.29it/s]\n",
      "Average Loss = 0.0064): 100%|██████████| 268/268 [00:09<00:00, 28.24it/s]\n",
      "Average Loss = 0.0044): 100%|██████████| 268/268 [00:09<00:00, 28.22it/s]\n",
      "Average Loss = 0.0042): 100%|██████████| 268/268 [00:09<00:00, 28.29it/s]\n",
      "Average Loss = 0.0040): 100%|██████████| 268/268 [00:09<00:00, 28.18it/s]\n",
      "Average Loss = 0.0041): 100%|██████████| 268/268 [00:09<00:00, 28.29it/s]\n",
      "Average Loss = 0.0057): 100%|██████████| 268/268 [00:09<00:00, 28.29it/s]\n",
      "Average Loss = 0.0026): 100%|██████████| 268/268 [00:09<00:00, 28.38it/s]\n",
      "Average Loss = 0.0035): 100%|██████████| 268/268 [00:09<00:00, 28.15it/s]\n",
      "Average Loss = 0.0074): 100%|██████████| 268/268 [00:09<00:00, 28.21it/s]\n",
      "Average Loss = 0.0044): 100%|██████████| 268/268 [00:09<00:00, 28.40it/s]\n",
      "Average Loss = 0.0037): 100%|██████████| 268/268 [00:09<00:00, 28.30it/s]\n",
      "Average Loss = 0.0054): 100%|██████████| 268/268 [00:09<00:00, 28.27it/s]\n",
      "Average Loss = 0.0036): 100%|██████████| 268/268 [00:09<00:00, 28.33it/s]\n",
      "Average Loss = 0.0065): 100%|██████████| 268/268 [00:09<00:00, 28.26it/s]\n",
      "Average Loss = 0.0044): 100%|██████████| 268/268 [00:09<00:00, 28.17it/s]\n",
      "Average Loss = 0.0030): 100%|██████████| 268/268 [00:09<00:00, 28.40it/s]\n",
      "Average Loss = 0.0020): 100%|██████████| 268/268 [00:09<00:00, 28.29it/s]\n",
      "Average Loss = 0.0026): 100%|██████████| 268/268 [00:09<00:00, 28.37it/s]\n"
     ]
    }
   ],
   "source": [
    "for i in range(n_epoch):\n",
    "    train(model, train_dataloader, optimizer)"
   ]
  },
  {
   "cell_type": "code",
   "execution_count": 14,
   "id": "82f1e9a0",
   "metadata": {},
   "outputs": [],
   "source": [
    "torch.save(model.state_dict(), 'cola_model_distilled.bin')"
   ]
  },
  {
   "cell_type": "code",
   "execution_count": 15,
   "id": "51f598cb",
   "metadata": {},
   "outputs": [
    {
     "name": "stdout",
     "output_type": "stream",
     "text": [
      "-rw-rw-r-- 1 jkfirst jkfirst 256M  6월 13 00:03 cola_model_distilled.bin\r\n"
     ]
    }
   ],
   "source": [
    "! ls -alh *.bin"
   ]
  },
  {
   "cell_type": "code",
   "execution_count": null,
   "id": "8b233244",
   "metadata": {},
   "outputs": [],
   "source": []
  },
  {
   "cell_type": "markdown",
   "id": "32b75980",
   "metadata": {},
   "source": [
    "### Inference"
   ]
  },
  {
   "cell_type": "markdown",
   "id": "6093833c",
   "metadata": {},
   "source": [
    "학습한 모델을 로딩해서 Inference하는 코드"
   ]
  },
  {
   "cell_type": "code",
   "execution_count": 16,
   "id": "445cd8aa",
   "metadata": {},
   "outputs": [],
   "source": [
    "from sklearn.metrics import confusion_matrix\n",
    "from sklearn.metrics import matthews_corrcoef"
   ]
  },
  {
   "cell_type": "code",
   "execution_count": 17,
   "id": "80cea667",
   "metadata": {},
   "outputs": [],
   "source": [
    "# 테스트를 위한 CoLA 데이터셋 로딩 및 DataLoader 클래스 생성\n",
    "test_dataset = CoLADataset('../../../data/cola_classification', tokenizer, is_train=False, is_inference=True)\n",
    "test_dataloader = DataLoader(test_dataset, collate_fn=collate_fn, batch_size=32, shuffle=False)"
   ]
  },
  {
   "cell_type": "code",
   "execution_count": 18,
   "id": "60c87791",
   "metadata": {},
   "outputs": [
    {
     "name": "stderr",
     "output_type": "stream",
     "text": [
      "Some weights of the model checkpoint at distilbert-base-uncased were not used when initializing DistilBertForSequenceClassification: ['vocab_transform.weight', 'vocab_transform.bias', 'vocab_layer_norm.weight', 'vocab_layer_norm.bias', 'vocab_projector.weight', 'vocab_projector.bias']\n",
      "- This IS expected if you are initializing DistilBertForSequenceClassification from the checkpoint of a model trained on another task or with another architecture (e.g. initializing a BertForSequenceClassification model from a BertForPreTraining model).\n",
      "- This IS NOT expected if you are initializing DistilBertForSequenceClassification from the checkpoint of a model that you expect to be exactly identical (initializing a BertForSequenceClassification model from a BertForSequenceClassification model).\n",
      "Some weights of DistilBertForSequenceClassification were not initialized from the model checkpoint at distilbert-base-uncased and are newly initialized: ['pre_classifier.weight', 'pre_classifier.bias', 'classifier.weight', 'classifier.bias']\n",
      "You should probably TRAIN this model on a down-stream task to be able to use it for predictions and inference.\n"
     ]
    }
   ],
   "source": [
    "# 모델 정의\n",
    "model = DistilBertForSequenceClassification.from_pretrained(\"distilbert-base-uncased\", num_labels = 2)"
   ]
  },
  {
   "cell_type": "code",
   "execution_count": 19,
   "id": "72afc0a2",
   "metadata": {},
   "outputs": [
    {
     "data": {
      "text/plain": [
       "DistilBertForSequenceClassification(\n",
       "  (distilbert): DistilBertModel(\n",
       "    (embeddings): Embeddings(\n",
       "      (word_embeddings): Embedding(30522, 768, padding_idx=0)\n",
       "      (position_embeddings): Embedding(512, 768)\n",
       "      (LayerNorm): LayerNorm((768,), eps=1e-12, elementwise_affine=True)\n",
       "      (dropout): Dropout(p=0.1, inplace=False)\n",
       "    )\n",
       "    (transformer): Transformer(\n",
       "      (layer): ModuleList(\n",
       "        (0): TransformerBlock(\n",
       "          (attention): MultiHeadSelfAttention(\n",
       "            (dropout): Dropout(p=0.1, inplace=False)\n",
       "            (q_lin): Linear(in_features=768, out_features=768, bias=True)\n",
       "            (k_lin): Linear(in_features=768, out_features=768, bias=True)\n",
       "            (v_lin): Linear(in_features=768, out_features=768, bias=True)\n",
       "            (out_lin): Linear(in_features=768, out_features=768, bias=True)\n",
       "          )\n",
       "          (sa_layer_norm): LayerNorm((768,), eps=1e-12, elementwise_affine=True)\n",
       "          (ffn): FFN(\n",
       "            (dropout): Dropout(p=0.1, inplace=False)\n",
       "            (lin1): Linear(in_features=768, out_features=3072, bias=True)\n",
       "            (lin2): Linear(in_features=3072, out_features=768, bias=True)\n",
       "          )\n",
       "          (output_layer_norm): LayerNorm((768,), eps=1e-12, elementwise_affine=True)\n",
       "        )\n",
       "        (1): TransformerBlock(\n",
       "          (attention): MultiHeadSelfAttention(\n",
       "            (dropout): Dropout(p=0.1, inplace=False)\n",
       "            (q_lin): Linear(in_features=768, out_features=768, bias=True)\n",
       "            (k_lin): Linear(in_features=768, out_features=768, bias=True)\n",
       "            (v_lin): Linear(in_features=768, out_features=768, bias=True)\n",
       "            (out_lin): Linear(in_features=768, out_features=768, bias=True)\n",
       "          )\n",
       "          (sa_layer_norm): LayerNorm((768,), eps=1e-12, elementwise_affine=True)\n",
       "          (ffn): FFN(\n",
       "            (dropout): Dropout(p=0.1, inplace=False)\n",
       "            (lin1): Linear(in_features=768, out_features=3072, bias=True)\n",
       "            (lin2): Linear(in_features=3072, out_features=768, bias=True)\n",
       "          )\n",
       "          (output_layer_norm): LayerNorm((768,), eps=1e-12, elementwise_affine=True)\n",
       "        )\n",
       "        (2): TransformerBlock(\n",
       "          (attention): MultiHeadSelfAttention(\n",
       "            (dropout): Dropout(p=0.1, inplace=False)\n",
       "            (q_lin): Linear(in_features=768, out_features=768, bias=True)\n",
       "            (k_lin): Linear(in_features=768, out_features=768, bias=True)\n",
       "            (v_lin): Linear(in_features=768, out_features=768, bias=True)\n",
       "            (out_lin): Linear(in_features=768, out_features=768, bias=True)\n",
       "          )\n",
       "          (sa_layer_norm): LayerNorm((768,), eps=1e-12, elementwise_affine=True)\n",
       "          (ffn): FFN(\n",
       "            (dropout): Dropout(p=0.1, inplace=False)\n",
       "            (lin1): Linear(in_features=768, out_features=3072, bias=True)\n",
       "            (lin2): Linear(in_features=3072, out_features=768, bias=True)\n",
       "          )\n",
       "          (output_layer_norm): LayerNorm((768,), eps=1e-12, elementwise_affine=True)\n",
       "        )\n",
       "        (3): TransformerBlock(\n",
       "          (attention): MultiHeadSelfAttention(\n",
       "            (dropout): Dropout(p=0.1, inplace=False)\n",
       "            (q_lin): Linear(in_features=768, out_features=768, bias=True)\n",
       "            (k_lin): Linear(in_features=768, out_features=768, bias=True)\n",
       "            (v_lin): Linear(in_features=768, out_features=768, bias=True)\n",
       "            (out_lin): Linear(in_features=768, out_features=768, bias=True)\n",
       "          )\n",
       "          (sa_layer_norm): LayerNorm((768,), eps=1e-12, elementwise_affine=True)\n",
       "          (ffn): FFN(\n",
       "            (dropout): Dropout(p=0.1, inplace=False)\n",
       "            (lin1): Linear(in_features=768, out_features=3072, bias=True)\n",
       "            (lin2): Linear(in_features=3072, out_features=768, bias=True)\n",
       "          )\n",
       "          (output_layer_norm): LayerNorm((768,), eps=1e-12, elementwise_affine=True)\n",
       "        )\n",
       "        (4): TransformerBlock(\n",
       "          (attention): MultiHeadSelfAttention(\n",
       "            (dropout): Dropout(p=0.1, inplace=False)\n",
       "            (q_lin): Linear(in_features=768, out_features=768, bias=True)\n",
       "            (k_lin): Linear(in_features=768, out_features=768, bias=True)\n",
       "            (v_lin): Linear(in_features=768, out_features=768, bias=True)\n",
       "            (out_lin): Linear(in_features=768, out_features=768, bias=True)\n",
       "          )\n",
       "          (sa_layer_norm): LayerNorm((768,), eps=1e-12, elementwise_affine=True)\n",
       "          (ffn): FFN(\n",
       "            (dropout): Dropout(p=0.1, inplace=False)\n",
       "            (lin1): Linear(in_features=768, out_features=3072, bias=True)\n",
       "            (lin2): Linear(in_features=3072, out_features=768, bias=True)\n",
       "          )\n",
       "          (output_layer_norm): LayerNorm((768,), eps=1e-12, elementwise_affine=True)\n",
       "        )\n",
       "        (5): TransformerBlock(\n",
       "          (attention): MultiHeadSelfAttention(\n",
       "            (dropout): Dropout(p=0.1, inplace=False)\n",
       "            (q_lin): Linear(in_features=768, out_features=768, bias=True)\n",
       "            (k_lin): Linear(in_features=768, out_features=768, bias=True)\n",
       "            (v_lin): Linear(in_features=768, out_features=768, bias=True)\n",
       "            (out_lin): Linear(in_features=768, out_features=768, bias=True)\n",
       "          )\n",
       "          (sa_layer_norm): LayerNorm((768,), eps=1e-12, elementwise_affine=True)\n",
       "          (ffn): FFN(\n",
       "            (dropout): Dropout(p=0.1, inplace=False)\n",
       "            (lin1): Linear(in_features=768, out_features=3072, bias=True)\n",
       "            (lin2): Linear(in_features=3072, out_features=768, bias=True)\n",
       "          )\n",
       "          (output_layer_norm): LayerNorm((768,), eps=1e-12, elementwise_affine=True)\n",
       "        )\n",
       "      )\n",
       "    )\n",
       "  )\n",
       "  (pre_classifier): Linear(in_features=768, out_features=768, bias=True)\n",
       "  (classifier): Linear(in_features=768, out_features=2, bias=True)\n",
       "  (dropout): Dropout(p=0.2, inplace=False)\n",
       ")"
      ]
     },
     "execution_count": 19,
     "metadata": {},
     "output_type": "execute_result"
    }
   ],
   "source": [
    "# 학습한 모델 로딩\n",
    "model.load_state_dict(torch.load('cola_model_distilled.bin', map_location='cpu'))\n",
    "#model.load_state_dict(torch.load('cola_model_no_pretrained.bin', map_location='cpu'))\n",
    "model.eval()"
   ]
  },
  {
   "cell_type": "code",
   "execution_count": 20,
   "id": "542c36d7",
   "metadata": {},
   "outputs": [],
   "source": [
    "def inference(model, dataloader):\n",
    "    tbar = tqdm(dataloader, desc='Inference', leave=True)\n",
    "    \n",
    "    label_list = []\n",
    "    pred_list = []\n",
    "    for i, d in enumerate(tbar):\n",
    "        input_ids, attention_mask, labels = d\n",
    "                \n",
    "        # do inference\n",
    "        pred = model(input_ids=input_ids, attention_mask=attention_mask)\n",
    "        pred = pred[0].argmax(dim=1)\n",
    "        \n",
    "        label_list.extend(labels.cpu().data.numpy())\n",
    "        pred_list.extend(pred.cpu().data.numpy())\n",
    "\n",
    "    labels = np.array(label_list)\n",
    "    preds = np.array(pred_list)\n",
    "    \n",
    "    return labels, preds"
   ]
  },
  {
   "cell_type": "code",
   "execution_count": 21,
   "id": "1bbdcc73",
   "metadata": {},
   "outputs": [
    {
     "name": "stderr",
     "output_type": "stream",
     "text": [
      "Inference: 100%|██████████| 17/17 [00:01<00:00, 10.78it/s]\n"
     ]
    }
   ],
   "source": [
    "labels, preds = inference(model, test_dataloader)"
   ]
  },
  {
   "cell_type": "code",
   "execution_count": 22,
   "id": "c2e71049",
   "metadata": {},
   "outputs": [
    {
     "data": {
      "text/plain": [
       "0.7655038759689923"
      ]
     },
     "execution_count": 22,
     "metadata": {},
     "output_type": "execute_result"
    }
   ],
   "source": [
    "(labels==preds).mean()"
   ]
  },
  {
   "cell_type": "code",
   "execution_count": 23,
   "id": "3c9d59aa",
   "metadata": {},
   "outputs": [
    {
     "data": {
      "text/plain": [
       "array([[ 68,  94],\n",
       "       [ 27, 327]])"
      ]
     },
     "execution_count": 23,
     "metadata": {},
     "output_type": "execute_result"
    }
   ],
   "source": [
    "confusion_matrix(labels, preds)"
   ]
  },
  {
   "cell_type": "code",
   "execution_count": 24,
   "id": "7bfa57f2",
   "metadata": {},
   "outputs": [
    {
     "data": {
      "text/plain": [
       "0.41130135879384566"
      ]
     },
     "execution_count": 24,
     "metadata": {},
     "output_type": "execute_result"
    }
   ],
   "source": [
    "matthews_corrcoef(labels, preds)"
   ]
  },
  {
   "cell_type": "code",
   "execution_count": null,
   "id": "37a5e32b",
   "metadata": {},
   "outputs": [],
   "source": []
  }
 ],
 "metadata": {
  "kernelspec": {
   "display_name": "env_hello",
   "language": "python",
   "name": "env_hello"
  },
  "language_info": {
   "codemirror_mode": {
    "name": "ipython",
    "version": 3
   },
   "file_extension": ".py",
   "mimetype": "text/x-python",
   "name": "python",
   "nbconvert_exporter": "python",
   "pygments_lexer": "ipython3",
   "version": "3.9.5"
  }
 },
 "nbformat": 4,
 "nbformat_minor": 5
}
