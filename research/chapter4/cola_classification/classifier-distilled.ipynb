{
 "cells": [
  {
   "cell_type": "code",
   "execution_count": 1,
   "id": "bd4f1bb6",
   "metadata": {},
   "outputs": [],
   "source": [
    "import os\n",
    "import torch\n",
    "import pandas as pd\n",
    "import numpy as np\n",
    "from torch import nn\n",
    "from torch.utils.data import Dataset, DataLoader\n",
    "from transformers import BertTokenizer\n",
    "from torch.nn.utils.rnn import pad_sequence\n",
    "from transformers import DistilBertForSequenceClassification, DistilBertTokenizer, AdamW\n",
    "from tqdm import tqdm"
   ]
  },
  {
   "cell_type": "markdown",
   "id": "4088c0dd",
   "metadata": {},
   "source": [
    "### Dataset 및 DataLoader 생성"
   ]
  },
  {
   "cell_type": "raw",
   "id": "44d29047",
   "metadata": {},
   "source": [
    "다운로드된 데이터를 이용해서 CoLADataset을 생성 후 DataLoader를 생성하는 코드"
   ]
  },
  {
   "cell_type": "code",
   "execution_count": 2,
   "id": "4894e2af",
   "metadata": {},
   "outputs": [],
   "source": [
    "# 반드시 do_lower_case=True로 해야 한다.\n",
    "# bert-base-uncased는 영어 데이터를 소문자로 변환해서 학습한 모델이기 때문이다.\n",
    "tokenizer = DistilBertTokenizer.from_pretrained('distilbert-base-uncased')"
   ]
  },
  {
   "cell_type": "code",
   "execution_count": 3,
   "id": "6fadee24",
   "metadata": {},
   "outputs": [],
   "source": [
    "class CoLADataset(Dataset):\n",
    "    def __init__(self, path, tokenizer, is_train=True, is_inference=False):\n",
    "        '''\n",
    "        path: CoLA 데이터셋 위치\n",
    "        tokenizer: CoLA 데이터셋을 토크나이징할 토크나이저, ex) BertTokenizer\n",
    "        is_train: CoLADataset을 정의하는 목적이 모델 학습용일 경우 True, 그렇지 않으면 False\n",
    "        is_inference: CoLADataset을 정의하는 목적이 인퍼런스용일 경우 True, 그렇지 않으면 False\n",
    "        '''\n",
    "        \n",
    "        if is_train:\n",
    "            filename = os.path.join(path, 'raw/in_domain_train.tsv')\n",
    "        else:\n",
    "            if is_inference:\n",
    "                filename = os.path.join(path, 'raw/out_of_domain_dev.tsv')\n",
    "            else:\n",
    "                filename = os.path.join(path, 'raw/in_domain_dev.tsv')\n",
    "        df = pd.read_csv(filename, sep='\\t', names=['source', 'label', 'judgement', 'text'])\n",
    "        self.input_ids = []\n",
    "        self.attention_mask = []\n",
    "        for t in df.text:\n",
    "            inp = tokenizer(t, return_tensors='pt')\n",
    "            self.input_ids.append(inp['input_ids'])\n",
    "            self.attention_mask.append(inp['attention_mask'])\n",
    "        self.label = df.label\n",
    "        \n",
    "    def __len__(self):\n",
    "        return len(self.input_ids)\n",
    "    \n",
    "    def __getitem__(self, idx):\n",
    "        return [self.input_ids[idx], self.attention_mask[idx], self.label[idx]]"
   ]
  },
  {
   "cell_type": "code",
   "execution_count": 4,
   "id": "fdefcbc1",
   "metadata": {},
   "outputs": [],
   "source": [
    "train_dataset = CoLADataset('../../../data/cola_classification', tokenizer)\n",
    "eval_dataset = CoLADataset('../../../data/cola_classification', tokenizer, is_train=False)"
   ]
  },
  {
   "cell_type": "code",
   "execution_count": 5,
   "id": "adf7a46c",
   "metadata": {},
   "outputs": [
    {
     "data": {
      "text/plain": [
       "(8551, 527)"
      ]
     },
     "execution_count": 5,
     "metadata": {},
     "output_type": "execute_result"
    }
   ],
   "source": [
    "len(train_dataset), len(eval_dataset)"
   ]
  },
  {
   "cell_type": "code",
   "execution_count": 6,
   "id": "ab6e7f16",
   "metadata": {},
   "outputs": [],
   "source": [
    "def collate_fn(batch):\n",
    "    input_ids = [b[0][0] for b in batch]\n",
    "    attention_mask = [b[1][0] for b in batch]\n",
    "    label = torch.tensor([b[2] for b in batch])\n",
    "    input_ids = pad_sequence(input_ids, batch_first=True)\n",
    "    attention_mask = pad_sequence(attention_mask, batch_first=True)\n",
    "    return input_ids, attention_mask, label"
   ]
  },
  {
   "cell_type": "code",
   "execution_count": 7,
   "id": "4faf6a91",
   "metadata": {},
   "outputs": [],
   "source": [
    "# collate_fn은 batch 단위의 데이터에 적용해야 하는 작업을 수행할 때 사용하면 된다.\n",
    "# 가령, 모델의 입력 데이터 사이즈는 일정해야 하기 때문에 pad_sequence 등의 함수를 통해 길이를 맞춰줘야 한다.\n",
    "# 이 작업을 Dataset에서 할 경우 불필요하게 메모리를 많이 사용하게 되기 때문에\n",
    "# collate_fn을 이용해서 각 batch가 생성될 때마다 pad_sequence를 적용해주는 것이다.\n",
    "train_dataloader = DataLoader(train_dataset, collate_fn=collate_fn, batch_size=32, shuffle=True)"
   ]
  },
  {
   "cell_type": "code",
   "execution_count": 8,
   "id": "0b17ed93",
   "metadata": {},
   "outputs": [
    {
     "name": "stdout",
     "output_type": "stream",
     "text": [
      "torch.Size([32, 27]) torch.Size([32, 27]) torch.Size([32])\n",
      "torch.Size([32, 23]) torch.Size([32, 23]) torch.Size([32])\n",
      "torch.Size([32, 17]) torch.Size([32, 17]) torch.Size([32])\n",
      "torch.Size([32, 19]) torch.Size([32, 19]) torch.Size([32])\n",
      "torch.Size([32, 25]) torch.Size([32, 25]) torch.Size([32])\n",
      "torch.Size([32, 23]) torch.Size([32, 23]) torch.Size([32])\n",
      "torch.Size([32, 32]) torch.Size([32, 32]) torch.Size([32])\n",
      "torch.Size([32, 24]) torch.Size([32, 24]) torch.Size([32])\n",
      "torch.Size([32, 18]) torch.Size([32, 18]) torch.Size([32])\n",
      "torch.Size([32, 18]) torch.Size([32, 18]) torch.Size([32])\n",
      "torch.Size([32, 32]) torch.Size([32, 32]) torch.Size([32])\n"
     ]
    }
   ],
   "source": [
    "for i, d in enumerate(train_dataloader):\n",
    "    if i > 10:\n",
    "        break\n",
    "    input_ids, attention_mask, labels = d\n",
    "    print(input_ids.shape, attention_mask.shape, labels.shape)"
   ]
  },
  {
   "cell_type": "code",
   "execution_count": null,
   "id": "ec6fd34c",
   "metadata": {},
   "outputs": [],
   "source": []
  },
  {
   "cell_type": "markdown",
   "id": "f2c4fce3",
   "metadata": {},
   "source": [
    "### Train"
   ]
  },
  {
   "cell_type": "markdown",
   "id": "535a993a",
   "metadata": {},
   "source": [
    "모델을 학습하는 코드"
   ]
  },
  {
   "cell_type": "code",
   "execution_count": 9,
   "id": "c8a8e6af",
   "metadata": {},
   "outputs": [
    {
     "name": "stderr",
     "output_type": "stream",
     "text": [
      "Some weights of the model checkpoint at distilbert-base-uncased were not used when initializing DistilBertForSequenceClassification: ['vocab_transform.weight', 'vocab_transform.bias', 'vocab_layer_norm.weight', 'vocab_layer_norm.bias', 'vocab_projector.weight', 'vocab_projector.bias']\n",
      "- This IS expected if you are initializing DistilBertForSequenceClassification from the checkpoint of a model trained on another task or with another architecture (e.g. initializing a BertForSequenceClassification model from a BertForPreTraining model).\n",
      "- This IS NOT expected if you are initializing DistilBertForSequenceClassification from the checkpoint of a model that you expect to be exactly identical (initializing a BertForSequenceClassification model from a BertForSequenceClassification model).\n",
      "Some weights of DistilBertForSequenceClassification were not initialized from the model checkpoint at distilbert-base-uncased and are newly initialized: ['pre_classifier.weight', 'pre_classifier.bias', 'classifier.weight', 'classifier.bias']\n",
      "You should probably TRAIN this model on a down-stream task to be able to use it for predictions and inference.\n"
     ]
    },
    {
     "data": {
      "text/plain": [
       "DistilBertForSequenceClassification(\n",
       "  (distilbert): DistilBertModel(\n",
       "    (embeddings): Embeddings(\n",
       "      (word_embeddings): Embedding(30522, 768, padding_idx=0)\n",
       "      (position_embeddings): Embedding(512, 768)\n",
       "      (LayerNorm): LayerNorm((768,), eps=1e-12, elementwise_affine=True)\n",
       "      (dropout): Dropout(p=0.1, inplace=False)\n",
       "    )\n",
       "    (transformer): Transformer(\n",
       "      (layer): ModuleList(\n",
       "        (0): TransformerBlock(\n",
       "          (attention): MultiHeadSelfAttention(\n",
       "            (dropout): Dropout(p=0.1, inplace=False)\n",
       "            (q_lin): Linear(in_features=768, out_features=768, bias=True)\n",
       "            (k_lin): Linear(in_features=768, out_features=768, bias=True)\n",
       "            (v_lin): Linear(in_features=768, out_features=768, bias=True)\n",
       "            (out_lin): Linear(in_features=768, out_features=768, bias=True)\n",
       "          )\n",
       "          (sa_layer_norm): LayerNorm((768,), eps=1e-12, elementwise_affine=True)\n",
       "          (ffn): FFN(\n",
       "            (dropout): Dropout(p=0.1, inplace=False)\n",
       "            (lin1): Linear(in_features=768, out_features=3072, bias=True)\n",
       "            (lin2): Linear(in_features=3072, out_features=768, bias=True)\n",
       "          )\n",
       "          (output_layer_norm): LayerNorm((768,), eps=1e-12, elementwise_affine=True)\n",
       "        )\n",
       "        (1): TransformerBlock(\n",
       "          (attention): MultiHeadSelfAttention(\n",
       "            (dropout): Dropout(p=0.1, inplace=False)\n",
       "            (q_lin): Linear(in_features=768, out_features=768, bias=True)\n",
       "            (k_lin): Linear(in_features=768, out_features=768, bias=True)\n",
       "            (v_lin): Linear(in_features=768, out_features=768, bias=True)\n",
       "            (out_lin): Linear(in_features=768, out_features=768, bias=True)\n",
       "          )\n",
       "          (sa_layer_norm): LayerNorm((768,), eps=1e-12, elementwise_affine=True)\n",
       "          (ffn): FFN(\n",
       "            (dropout): Dropout(p=0.1, inplace=False)\n",
       "            (lin1): Linear(in_features=768, out_features=3072, bias=True)\n",
       "            (lin2): Linear(in_features=3072, out_features=768, bias=True)\n",
       "          )\n",
       "          (output_layer_norm): LayerNorm((768,), eps=1e-12, elementwise_affine=True)\n",
       "        )\n",
       "        (2): TransformerBlock(\n",
       "          (attention): MultiHeadSelfAttention(\n",
       "            (dropout): Dropout(p=0.1, inplace=False)\n",
       "            (q_lin): Linear(in_features=768, out_features=768, bias=True)\n",
       "            (k_lin): Linear(in_features=768, out_features=768, bias=True)\n",
       "            (v_lin): Linear(in_features=768, out_features=768, bias=True)\n",
       "            (out_lin): Linear(in_features=768, out_features=768, bias=True)\n",
       "          )\n",
       "          (sa_layer_norm): LayerNorm((768,), eps=1e-12, elementwise_affine=True)\n",
       "          (ffn): FFN(\n",
       "            (dropout): Dropout(p=0.1, inplace=False)\n",
       "            (lin1): Linear(in_features=768, out_features=3072, bias=True)\n",
       "            (lin2): Linear(in_features=3072, out_features=768, bias=True)\n",
       "          )\n",
       "          (output_layer_norm): LayerNorm((768,), eps=1e-12, elementwise_affine=True)\n",
       "        )\n",
       "        (3): TransformerBlock(\n",
       "          (attention): MultiHeadSelfAttention(\n",
       "            (dropout): Dropout(p=0.1, inplace=False)\n",
       "            (q_lin): Linear(in_features=768, out_features=768, bias=True)\n",
       "            (k_lin): Linear(in_features=768, out_features=768, bias=True)\n",
       "            (v_lin): Linear(in_features=768, out_features=768, bias=True)\n",
       "            (out_lin): Linear(in_features=768, out_features=768, bias=True)\n",
       "          )\n",
       "          (sa_layer_norm): LayerNorm((768,), eps=1e-12, elementwise_affine=True)\n",
       "          (ffn): FFN(\n",
       "            (dropout): Dropout(p=0.1, inplace=False)\n",
       "            (lin1): Linear(in_features=768, out_features=3072, bias=True)\n",
       "            (lin2): Linear(in_features=3072, out_features=768, bias=True)\n",
       "          )\n",
       "          (output_layer_norm): LayerNorm((768,), eps=1e-12, elementwise_affine=True)\n",
       "        )\n",
       "        (4): TransformerBlock(\n",
       "          (attention): MultiHeadSelfAttention(\n",
       "            (dropout): Dropout(p=0.1, inplace=False)\n",
       "            (q_lin): Linear(in_features=768, out_features=768, bias=True)\n",
       "            (k_lin): Linear(in_features=768, out_features=768, bias=True)\n",
       "            (v_lin): Linear(in_features=768, out_features=768, bias=True)\n",
       "            (out_lin): Linear(in_features=768, out_features=768, bias=True)\n",
       "          )\n",
       "          (sa_layer_norm): LayerNorm((768,), eps=1e-12, elementwise_affine=True)\n",
       "          (ffn): FFN(\n",
       "            (dropout): Dropout(p=0.1, inplace=False)\n",
       "            (lin1): Linear(in_features=768, out_features=3072, bias=True)\n",
       "            (lin2): Linear(in_features=3072, out_features=768, bias=True)\n",
       "          )\n",
       "          (output_layer_norm): LayerNorm((768,), eps=1e-12, elementwise_affine=True)\n",
       "        )\n",
       "        (5): TransformerBlock(\n",
       "          (attention): MultiHeadSelfAttention(\n",
       "            (dropout): Dropout(p=0.1, inplace=False)\n",
       "            (q_lin): Linear(in_features=768, out_features=768, bias=True)\n",
       "            (k_lin): Linear(in_features=768, out_features=768, bias=True)\n",
       "            (v_lin): Linear(in_features=768, out_features=768, bias=True)\n",
       "            (out_lin): Linear(in_features=768, out_features=768, bias=True)\n",
       "          )\n",
       "          (sa_layer_norm): LayerNorm((768,), eps=1e-12, elementwise_affine=True)\n",
       "          (ffn): FFN(\n",
       "            (dropout): Dropout(p=0.1, inplace=False)\n",
       "            (lin1): Linear(in_features=768, out_features=3072, bias=True)\n",
       "            (lin2): Linear(in_features=3072, out_features=768, bias=True)\n",
       "          )\n",
       "          (output_layer_norm): LayerNorm((768,), eps=1e-12, elementwise_affine=True)\n",
       "        )\n",
       "      )\n",
       "    )\n",
       "  )\n",
       "  (pre_classifier): Linear(in_features=768, out_features=768, bias=True)\n",
       "  (classifier): Linear(in_features=768, out_features=2, bias=True)\n",
       "  (dropout): Dropout(p=0.2, inplace=False)\n",
       ")"
      ]
     },
     "execution_count": 9,
     "metadata": {},
     "output_type": "execute_result"
    }
   ],
   "source": [
    "# Load BertForSequenceClassification, the pretrained BERT model with a single \n",
    "# linear classification layer on top. \n",
    "model = DistilBertForSequenceClassification.from_pretrained(\"distilbert-base-uncased\", num_labels = 2).cuda()\n",
    "model.train()"
   ]
  },
  {
   "cell_type": "code",
   "execution_count": 10,
   "id": "7cc198ec",
   "metadata": {},
   "outputs": [],
   "source": [
    "# Optimizer와 Loss 함수는 가장 일반적인 것으로 정의했다.\n",
    "# 이 노트북 파일의 목적은 BERT를 이용해서 높은 성능의 모델을 간편하게 만들 수 있다는 것을 보여주기 위함이다.\n",
    "# Optimizer와 Loss를 최적화할 경우 좋은 성능이 나온 이유를 잘 설명할 수 없다.\n",
    "optimizer = AdamW(model.parameters(), lr = 2e-5, eps = 1e-8)\n",
    "loss = nn.CrossEntropyLoss()"
   ]
  },
  {
   "cell_type": "code",
   "execution_count": 11,
   "id": "aac186eb",
   "metadata": {},
   "outputs": [],
   "source": [
    "n_epoch = 200"
   ]
  },
  {
   "cell_type": "code",
   "execution_count": 12,
   "id": "f327b26e",
   "metadata": {},
   "outputs": [],
   "source": [
    "def train(model, dataloader, optimizer):\n",
    "    tbar = tqdm(dataloader, desc='Training', leave=True)\n",
    "    \n",
    "    total_loss = 0.0\n",
    "    for i, d in enumerate(tbar):\n",
    "        optimizer.zero_grad()\n",
    "        input_ids, attention_mask, labels = d\n",
    "        \n",
    "        # to cuda\n",
    "        input_ids = input_ids.cuda()\n",
    "        attention_mask = attention_mask.cuda()\n",
    "        labels = labels.cuda()\n",
    "        \n",
    "        # train model\n",
    "        out = model(input_ids=input_ids, attention_mask=attention_mask, labels=labels)\n",
    "        loss = out[0]\n",
    "        \n",
    "        #print('before backward: {}'.format(loss))\n",
    "        loss.backward()\n",
    "        #print('after backward: {}'.format(loss))\n",
    "        \n",
    "        optimizer.step()\n",
    "        \n",
    "        total_loss += loss.data.item()\n",
    "        tbar.set_description(\"Average Loss = {:.4f})\".format(total_loss/(i+1)))\n",
    "        "
   ]
  },
  {
   "cell_type": "code",
   "execution_count": 13,
   "id": "10ad6a7c",
   "metadata": {},
   "outputs": [
    {
     "name": "stderr",
     "output_type": "stream",
     "text": [
      "Average Loss = 0.5245): 100%|██████████| 268/268 [00:13<00:00, 19.91it/s]\n",
      "Average Loss = 0.3538): 100%|██████████| 268/268 [00:13<00:00, 20.45it/s]\n",
      "Average Loss = 0.2162): 100%|██████████| 268/268 [00:13<00:00, 20.38it/s]\n",
      "Average Loss = 0.1436): 100%|██████████| 268/268 [00:13<00:00, 20.29it/s]\n",
      "Average Loss = 0.1043): 100%|██████████| 268/268 [00:13<00:00, 20.23it/s]\n",
      "Average Loss = 0.0757): 100%|██████████| 268/268 [00:13<00:00, 20.30it/s]\n",
      "Average Loss = 0.0667): 100%|██████████| 268/268 [00:13<00:00, 20.33it/s]\n",
      "Average Loss = 0.0455): 100%|██████████| 268/268 [00:13<00:00, 20.25it/s]\n",
      "Average Loss = 0.0439): 100%|██████████| 268/268 [00:13<00:00, 20.12it/s]\n",
      "Average Loss = 0.0424): 100%|██████████| 268/268 [00:13<00:00, 20.34it/s]\n",
      "Average Loss = 0.0348): 100%|██████████| 268/268 [00:13<00:00, 20.26it/s]\n",
      "Average Loss = 0.0329): 100%|██████████| 268/268 [00:13<00:00, 20.07it/s]\n",
      "Average Loss = 0.0329): 100%|██████████| 268/268 [00:13<00:00, 20.17it/s]\n",
      "Average Loss = 0.0276): 100%|██████████| 268/268 [00:13<00:00, 20.06it/s]\n",
      "Average Loss = 0.0221): 100%|██████████| 268/268 [00:13<00:00, 20.07it/s]\n",
      "Average Loss = 0.0200): 100%|██████████| 268/268 [00:13<00:00, 20.01it/s]\n",
      "Average Loss = 0.0247): 100%|██████████| 268/268 [00:13<00:00, 19.92it/s]\n",
      "Average Loss = 0.0224): 100%|██████████| 268/268 [00:13<00:00, 20.13it/s]\n",
      "Average Loss = 0.0239): 100%|██████████| 268/268 [00:13<00:00, 20.05it/s]\n",
      "Average Loss = 0.0176): 100%|██████████| 268/268 [00:13<00:00, 19.94it/s]\n",
      "Average Loss = 0.0155):  53%|█████▎    | 141/268 [00:07<00:06, 19.91it/s]\n"
     ]
    },
    {
     "ename": "KeyboardInterrupt",
     "evalue": "",
     "output_type": "error",
     "traceback": [
      "\u001b[0;31m---------------------------------------------------------------------------\u001b[0m",
      "\u001b[0;31mKeyboardInterrupt\u001b[0m                         Traceback (most recent call last)",
      "Input \u001b[0;32mIn [13]\u001b[0m, in \u001b[0;36m<cell line: 1>\u001b[0;34m()\u001b[0m\n\u001b[1;32m      1\u001b[0m \u001b[38;5;28;01mfor\u001b[39;00m i \u001b[38;5;129;01min\u001b[39;00m \u001b[38;5;28mrange\u001b[39m(n_epoch):\n\u001b[0;32m----> 2\u001b[0m     \u001b[43mtrain\u001b[49m\u001b[43m(\u001b[49m\u001b[43mmodel\u001b[49m\u001b[43m,\u001b[49m\u001b[43m \u001b[49m\u001b[43mtrain_dataloader\u001b[49m\u001b[43m,\u001b[49m\u001b[43m \u001b[49m\u001b[43moptimizer\u001b[49m\u001b[43m)\u001b[49m\n",
      "Input \u001b[0;32mIn [12]\u001b[0m, in \u001b[0;36mtrain\u001b[0;34m(model, dataloader, optimizer)\u001b[0m\n\u001b[1;32m     20\u001b[0m \u001b[38;5;66;03m#print('after backward: {}'.format(loss))\u001b[39;00m\n\u001b[1;32m     22\u001b[0m optimizer\u001b[38;5;241m.\u001b[39mstep()\n\u001b[0;32m---> 24\u001b[0m total_loss \u001b[38;5;241m+\u001b[39m\u001b[38;5;241m=\u001b[39m \u001b[43mloss\u001b[49m\u001b[38;5;241;43m.\u001b[39;49m\u001b[43mdata\u001b[49m\u001b[38;5;241;43m.\u001b[39;49m\u001b[43mitem\u001b[49m\u001b[43m(\u001b[49m\u001b[43m)\u001b[49m\n\u001b[1;32m     25\u001b[0m tbar\u001b[38;5;241m.\u001b[39mset_description(\u001b[38;5;124m\"\u001b[39m\u001b[38;5;124mAverage Loss = \u001b[39m\u001b[38;5;132;01m{:.4f}\u001b[39;00m\u001b[38;5;124m)\u001b[39m\u001b[38;5;124m\"\u001b[39m\u001b[38;5;241m.\u001b[39mformat(total_loss\u001b[38;5;241m/\u001b[39m(i\u001b[38;5;241m+\u001b[39m\u001b[38;5;241m1\u001b[39m)))\n",
      "\u001b[0;31mKeyboardInterrupt\u001b[0m: "
     ]
    }
   ],
   "source": [
    "for i in range(n_epoch):\n",
    "    train(model, train_dataloader, optimizer)"
   ]
  },
  {
   "cell_type": "code",
   "execution_count": null,
   "id": "82f1e9a0",
   "metadata": {},
   "outputs": [],
   "source": [
    "torch.save(model.state_dict(), 'cola_model_distilled.bin')"
   ]
  },
  {
   "cell_type": "code",
   "execution_count": null,
   "id": "51f598cb",
   "metadata": {},
   "outputs": [],
   "source": [
    "! ls -alh *.bin"
   ]
  },
  {
   "cell_type": "code",
   "execution_count": null,
   "id": "8b233244",
   "metadata": {},
   "outputs": [],
   "source": []
  },
  {
   "cell_type": "markdown",
   "id": "32b75980",
   "metadata": {},
   "source": [
    "### Inference"
   ]
  },
  {
   "cell_type": "markdown",
   "id": "6093833c",
   "metadata": {},
   "source": [
    "학습한 모델을 로딩해서 Inference하는 코드"
   ]
  },
  {
   "cell_type": "code",
   "execution_count": null,
   "id": "445cd8aa",
   "metadata": {},
   "outputs": [],
   "source": [
    "from sklearn.metrics import confusion_matrix\n",
    "from sklearn.metrics import matthews_corrcoef"
   ]
  },
  {
   "cell_type": "code",
   "execution_count": null,
   "id": "80cea667",
   "metadata": {},
   "outputs": [],
   "source": [
    "# 테스트를 위한 CoLA 데이터셋 로딩 및 DataLoader 클래스 생성\n",
    "test_dataset = CoLADataset('../../../data/cola_classification', tokenizer, is_train=False, is_inference=True)\n",
    "test_dataloader = DataLoader(test_dataset, collate_fn=collate_fn, batch_size=32, shuffle=False)"
   ]
  },
  {
   "cell_type": "code",
   "execution_count": null,
   "id": "60c87791",
   "metadata": {},
   "outputs": [],
   "source": [
    "# 모델 정의\n",
    "model = DistilBertForSequenceClassification.from_pretrained(\"distilbert-base-uncased\", num_labels = 2)"
   ]
  },
  {
   "cell_type": "code",
   "execution_count": null,
   "id": "72afc0a2",
   "metadata": {},
   "outputs": [],
   "source": [
    "# 학습한 모델 로딩\n",
    "model.load_state_dict(torch.load('cola_model_distilled.bin', map_location='cpu'))\n",
    "#model.load_state_dict(torch.load('cola_model_no_pretrained.bin', map_location='cpu'))\n",
    "model.eval()"
   ]
  },
  {
   "cell_type": "code",
   "execution_count": null,
   "id": "542c36d7",
   "metadata": {},
   "outputs": [],
   "source": [
    "def inference(model, dataloader):\n",
    "    tbar = tqdm(dataloader, desc='Inference', leave=True)\n",
    "    \n",
    "    label_list = []\n",
    "    pred_list = []\n",
    "    for i, d in enumerate(tbar):\n",
    "        input_ids, attention_mask, labels = d\n",
    "                \n",
    "        # do inference\n",
    "        pred = model(input_ids=input_ids, attention_mask=attention_mask)\n",
    "        pred = pred[0].argmax(dim=1)\n",
    "        \n",
    "        label_list.extend(labels.cpu().data.numpy())\n",
    "        pred_list.extend(pred.cpu().data.numpy())\n",
    "\n",
    "    labels = np.array(label_list)\n",
    "    preds = np.array(pred_list)\n",
    "    \n",
    "    return labels, preds"
   ]
  },
  {
   "cell_type": "code",
   "execution_count": null,
   "id": "1bbdcc73",
   "metadata": {},
   "outputs": [],
   "source": [
    "labels, preds = inference(model, test_dataloader)"
   ]
  },
  {
   "cell_type": "code",
   "execution_count": null,
   "id": "c2e71049",
   "metadata": {},
   "outputs": [],
   "source": [
    "(labels==preds).mean()"
   ]
  },
  {
   "cell_type": "code",
   "execution_count": null,
   "id": "3c9d59aa",
   "metadata": {},
   "outputs": [],
   "source": [
    "confusion_matrix(labels, preds)"
   ]
  },
  {
   "cell_type": "code",
   "execution_count": null,
   "id": "7bfa57f2",
   "metadata": {},
   "outputs": [],
   "source": [
    "matthews_corrcoef(labels, preds)"
   ]
  },
  {
   "cell_type": "code",
   "execution_count": null,
   "id": "37a5e32b",
   "metadata": {},
   "outputs": [],
   "source": []
  }
 ],
 "metadata": {
  "kernelspec": {
   "display_name": "env_hello_three",
   "language": "python",
   "name": "env_hello_three"
  },
  "language_info": {
   "codemirror_mode": {
    "name": "ipython",
    "version": 3
   },
   "file_extension": ".py",
   "mimetype": "text/x-python",
   "name": "python",
   "nbconvert_exporter": "python",
   "pygments_lexer": "ipython3",
   "version": "3.9.5"
  }
 },
 "nbformat": 4,
 "nbformat_minor": 5
}
