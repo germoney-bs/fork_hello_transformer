{
 "cells": [
  {
   "cell_type": "code",
   "execution_count": 53,
   "id": "a778fbce",
   "metadata": {},
   "outputs": [],
   "source": [
    "# reference to static quantization\n",
    "# https://rachitsingh.com/deep-learning-model-compression/\n",
    "# https://chowdera.com/2021/02/20210203170434983m.html\n",
    "# https://nenadmarkus.com/p/fusing-batchnorm-and-conv/"
   ]
  },
  {
   "cell_type": "code",
   "execution_count": 54,
   "id": "e4b07267",
   "metadata": {},
   "outputs": [],
   "source": [
    "import torch\n",
    "import numpy as np\n",
    "from torch import nn\n",
    "from torch.quantization import QuantStub, DeQuantStub"
   ]
  },
  {
   "cell_type": "code",
   "execution_count": 67,
   "id": "9c7df0d8",
   "metadata": {},
   "outputs": [],
   "source": [
    "class SampleNet(nn.Module):\n",
    "    def __init__(self, quantize_statically=False):\n",
    "        super(SampleNet, self).__init__()\n",
    "        self.quantize_statically = quantize_statically\n",
    "        in_channels = 112\n",
    "        out_channels = 112\n",
    "        self.conv = nn.Conv2d(in_channels, out_channels, kernel_size=1, stride=1, padding=0, groups=1, bias=False)\n",
    "        self.fc = nn.Linear(3, 2, bias=False)\n",
    "        self.relu = nn.ReLU(inplace=False)\n",
    "        self.quant = QuantStub()\n",
    "        self.dequant = DeQuantStub()\n",
    "\n",
    "    def forward(self, x):\n",
    "        if self.quantize_statically:\n",
    "            x = self.quant(x)\n",
    "        x = self.conv(x)\n",
    "        x = self.fc(x)\n",
    "        x = self.relu(x)\n",
    "        \n",
    "        if self.quantize_statically:\n",
    "            x = self.dequant(x)\n",
    "        return x"
   ]
  },
  {
   "cell_type": "code",
   "execution_count": 68,
   "id": "21085447",
   "metadata": {},
   "outputs": [],
   "source": [
    "b = 1\n",
    "c = 3\n",
    "w = 112\n",
    "h = 112"
   ]
  },
  {
   "cell_type": "markdown",
   "id": "d411df64",
   "metadata": {},
   "source": [
    "## Dynamic Quantization"
   ]
  },
  {
   "cell_type": "code",
   "execution_count": 69,
   "id": "baf4120f",
   "metadata": {},
   "outputs": [],
   "source": [
    "model = SampleNet(quantize_statically=False)"
   ]
  },
  {
   "cell_type": "code",
   "execution_count": 113,
   "id": "5aa1c321",
   "metadata": {},
   "outputs": [
    {
     "data": {
      "text/plain": [
       "SampleNet(\n",
       "  (conv): Conv2d(112, 112, kernel_size=(1, 1), stride=(1, 1), bias=False)\n",
       "  (fc): Linear(in_features=3, out_features=2, bias=False)\n",
       "  (relu): ReLU()\n",
       "  (quant): QuantStub()\n",
       "  (dequant): DeQuantStub()\n",
       ")"
      ]
     },
     "execution_count": 113,
     "metadata": {},
     "output_type": "execute_result"
    }
   ],
   "source": [
    "model"
   ]
  },
  {
   "cell_type": "code",
   "execution_count": 71,
   "id": "081e2662",
   "metadata": {},
   "outputs": [],
   "source": [
    "model_int8_dynamic = torch.quantization.quantize_dynamic(model, qconfig_spec=None, dtype=torch.qint8, mapping=None, inplace=False)"
   ]
  },
  {
   "cell_type": "code",
   "execution_count": 72,
   "id": "10a04b2a",
   "metadata": {},
   "outputs": [
    {
     "data": {
      "text/plain": [
       "SampleNet(\n",
       "  (conv): Conv2d(112, 112, kernel_size=(1, 1), stride=(1, 1), bias=False)\n",
       "  (fc): DynamicQuantizedLinear(in_features=3, out_features=2, dtype=torch.qint8, qscheme=torch.per_tensor_affine)\n",
       "  (relu): ReLU()\n",
       "  (quant): QuantStub()\n",
       "  (dequant): DeQuantStub()\n",
       ")"
      ]
     },
     "execution_count": 72,
     "metadata": {},
     "output_type": "execute_result"
    }
   ],
   "source": [
    "model_int8_dynamic"
   ]
  },
  {
   "cell_type": "code",
   "execution_count": 73,
   "id": "a5d68dbc",
   "metadata": {},
   "outputs": [],
   "source": [
    "np.random.seed(100)\n",
    "x = torch.from_numpy(np.random.random((b, w, h, c))).float()"
   ]
  },
  {
   "cell_type": "code",
   "execution_count": 74,
   "id": "9d353e3e",
   "metadata": {},
   "outputs": [
    {
     "data": {
      "text/plain": [
       "tensor([[[[0.0000, 0.0000],\n",
       "          [0.0000, 0.0877],\n",
       "          [0.0000, 0.0000],\n",
       "          ...,\n",
       "          [0.0006, 0.0115],\n",
       "          [0.0000, 0.0000],\n",
       "          [0.0256, 0.0000]],\n",
       "\n",
       "         [[0.0000, 0.0000],\n",
       "          [0.0000, 0.0000],\n",
       "          [0.1690, 0.0965],\n",
       "          ...,\n",
       "          [0.0682, 0.1329],\n",
       "          [0.0277, 0.0000],\n",
       "          [0.0479, 0.0000]],\n",
       "\n",
       "         [[0.0216, 0.0000],\n",
       "          [0.0691, 0.1039],\n",
       "          [0.0000, 0.0412],\n",
       "          ...,\n",
       "          [0.0613, 0.1398],\n",
       "          [0.3052, 0.2448],\n",
       "          [0.0796, 0.0810]],\n",
       "\n",
       "         ...,\n",
       "\n",
       "         [[0.1627, 0.0929],\n",
       "          [0.0718, 0.1530],\n",
       "          [0.0535, 0.0000],\n",
       "          ...,\n",
       "          [0.0332, 0.0236],\n",
       "          [0.1541, 0.1157],\n",
       "          [0.0699, 0.0733]],\n",
       "\n",
       "         [[0.1018, 0.0143],\n",
       "          [0.0479, 0.0000],\n",
       "          [0.0000, 0.0000],\n",
       "          ...,\n",
       "          [0.0000, 0.0000],\n",
       "          [0.0000, 0.0000],\n",
       "          [0.0464, 0.0498]],\n",
       "\n",
       "         [[0.1849, 0.1061],\n",
       "          [0.2382, 0.1566],\n",
       "          [0.2441, 0.1503],\n",
       "          ...,\n",
       "          [0.2086, 0.0000],\n",
       "          [0.2594, 0.0829],\n",
       "          [0.2559, 0.2537]]]])"
      ]
     },
     "execution_count": 74,
     "metadata": {},
     "output_type": "execute_result"
    }
   ],
   "source": [
    "o = model_int8_dynamic(x)\n",
    "o"
   ]
  },
  {
   "cell_type": "code",
   "execution_count": 108,
   "id": "8ab39ef6",
   "metadata": {},
   "outputs": [],
   "source": [
    "o1_dynamic = model_int8_dynamic.conv(x)\n",
    "o2_dynamic = model_int8_dynamic.fc(o1_dynamic)\n",
    "o3_dynamic = model_int8_dynamic.relu(o2_dynamic)"
   ]
  },
  {
   "cell_type": "code",
   "execution_count": 109,
   "id": "585d7e22",
   "metadata": {},
   "outputs": [
    {
     "data": {
      "text/plain": [
       "tensor([[[[ 0.2791,  0.3040,  0.0697],\n",
       "          [ 0.1874,  0.1361, -0.1421],\n",
       "          [ 0.2033,  0.1973,  0.0379],\n",
       "          ...,\n",
       "          [-0.1547,  0.1216,  0.0254],\n",
       "          [-0.0715,  0.2331,  0.1403],\n",
       "          [-0.1369, -0.0557,  0.0515]],\n",
       "\n",
       "         [[ 0.0974, -0.0910,  0.1341],\n",
       "          [ 0.2933,  0.1376,  0.0847],\n",
       "          [-0.3050, -0.1590, -0.1934],\n",
       "          ...,\n",
       "          [-0.3086,  0.2196, -0.1547],\n",
       "          [-0.2770, -0.0225,  0.1100],\n",
       "          [ 0.1098, -0.3398,  0.0224]],\n",
       "\n",
       "         [[-0.0608, -0.2606,  0.1479],\n",
       "          [-0.0619,  0.0180, -0.1743],\n",
       "          [ 0.0579,  0.0359, -0.0711],\n",
       "          ...,\n",
       "          [ 0.0391,  0.0548, -0.2481],\n",
       "          [-0.5632, -0.1450, -0.4495],\n",
       "          [ 0.1083, -0.1608, -0.2039]],\n",
       "\n",
       "         ...,\n",
       "\n",
       "         [[-0.1689, -0.2217, -0.2255],\n",
       "          [-0.1602,  0.1495, -0.2251],\n",
       "          [ 0.0772, -0.2318, -0.0521],\n",
       "          ...,\n",
       "          [-0.2581,  0.0943,  0.0039],\n",
       "          [-0.1571, -0.1597, -0.2587],\n",
       "          [-0.0871, -0.0268, -0.1348]],\n",
       "\n",
       "         [[ 0.0335, -0.3038, -0.1222],\n",
       "          [-0.2737, -0.0502,  0.0781],\n",
       "          [ 0.1544, -0.0271,  0.1605],\n",
       "          ...,\n",
       "          [-0.0482, -0.0818,  0.1426],\n",
       "          [ 0.2597, -0.1637,  0.1166],\n",
       "          [-0.1589,  0.0382, -0.0740]],\n",
       "\n",
       "         [[-0.5004, -0.0705, -0.1878],\n",
       "          [-0.5086, -0.1280, -0.3028],\n",
       "          [-0.2007, -0.3435, -0.3691],\n",
       "          ...,\n",
       "          [-0.3172, -0.5872, -0.0048],\n",
       "          [-0.4541, -0.3698, -0.2247],\n",
       "          [-0.2487, -0.1548, -0.5082]]]], grad_fn=<MkldnnConvolutionBackward0>)"
      ]
     },
     "execution_count": 109,
     "metadata": {},
     "output_type": "execute_result"
    }
   ],
   "source": [
    "o1_dynamic"
   ]
  },
  {
   "cell_type": "code",
   "execution_count": 110,
   "id": "a9637951",
   "metadata": {},
   "outputs": [
    {
     "data": {
      "text/plain": [
       "tensor([[[[-0.1515, -0.0011],\n",
       "          [-0.0271,  0.0877],\n",
       "          [-0.1077, -0.0004],\n",
       "          ...,\n",
       "          [ 0.0006,  0.0115],\n",
       "          [-0.0833, -0.0354],\n",
       "          [ 0.0256, -0.0264]],\n",
       "\n",
       "         [[-0.0432, -0.0909],\n",
       "          [-0.1264, -0.0389],\n",
       "          [ 0.1690,  0.0965],\n",
       "          ...,\n",
       "          [ 0.0682,  0.1329],\n",
       "          [ 0.0277, -0.0543],\n",
       "          [ 0.0479, -0.0695]],\n",
       "\n",
       "         [[ 0.0216, -0.1219],\n",
       "          [ 0.0691,  0.1039],\n",
       "          [-0.0032,  0.0412],\n",
       "          ...,\n",
       "          [ 0.0613,  0.1398],\n",
       "          [ 0.3052,  0.2448],\n",
       "          [ 0.0796,  0.0810]],\n",
       "\n",
       "         ...,\n",
       "\n",
       "         [[ 0.1627,  0.0929],\n",
       "          [ 0.0718,  0.1530],\n",
       "          [ 0.0535, -0.0135],\n",
       "          ...,\n",
       "          [ 0.0332,  0.0236],\n",
       "          [ 0.1541,  0.1157],\n",
       "          [ 0.0699,  0.0733]],\n",
       "\n",
       "         [[ 0.1018,  0.0143],\n",
       "          [ 0.0479, -0.0334],\n",
       "          [-0.0816, -0.0951],\n",
       "          ...,\n",
       "          [-0.0134, -0.0858],\n",
       "          [-0.0544, -0.0953],\n",
       "          [ 0.0464,  0.0498]],\n",
       "\n",
       "         [[ 0.1849,  0.1061],\n",
       "          [ 0.2382,  0.1566],\n",
       "          [ 0.2441,  0.1503],\n",
       "          ...,\n",
       "          [ 0.2086, -0.0798],\n",
       "          [ 0.2594,  0.0829],\n",
       "          [ 0.2559,  0.2537]]]])"
      ]
     },
     "execution_count": 110,
     "metadata": {},
     "output_type": "execute_result"
    }
   ],
   "source": [
    "o2_dynamic"
   ]
  },
  {
   "cell_type": "code",
   "execution_count": 111,
   "id": "45e805b3",
   "metadata": {},
   "outputs": [
    {
     "data": {
      "text/plain": [
       "tensor([[[[0.0000, 0.0000],\n",
       "          [0.0000, 0.0877],\n",
       "          [0.0000, 0.0000],\n",
       "          ...,\n",
       "          [0.0006, 0.0115],\n",
       "          [0.0000, 0.0000],\n",
       "          [0.0256, 0.0000]],\n",
       "\n",
       "         [[0.0000, 0.0000],\n",
       "          [0.0000, 0.0000],\n",
       "          [0.1690, 0.0965],\n",
       "          ...,\n",
       "          [0.0682, 0.1329],\n",
       "          [0.0277, 0.0000],\n",
       "          [0.0479, 0.0000]],\n",
       "\n",
       "         [[0.0216, 0.0000],\n",
       "          [0.0691, 0.1039],\n",
       "          [0.0000, 0.0412],\n",
       "          ...,\n",
       "          [0.0613, 0.1398],\n",
       "          [0.3052, 0.2448],\n",
       "          [0.0796, 0.0810]],\n",
       "\n",
       "         ...,\n",
       "\n",
       "         [[0.1627, 0.0929],\n",
       "          [0.0718, 0.1530],\n",
       "          [0.0535, 0.0000],\n",
       "          ...,\n",
       "          [0.0332, 0.0236],\n",
       "          [0.1541, 0.1157],\n",
       "          [0.0699, 0.0733]],\n",
       "\n",
       "         [[0.1018, 0.0143],\n",
       "          [0.0479, 0.0000],\n",
       "          [0.0000, 0.0000],\n",
       "          ...,\n",
       "          [0.0000, 0.0000],\n",
       "          [0.0000, 0.0000],\n",
       "          [0.0464, 0.0498]],\n",
       "\n",
       "         [[0.1849, 0.1061],\n",
       "          [0.2382, 0.1566],\n",
       "          [0.2441, 0.1503],\n",
       "          ...,\n",
       "          [0.2086, 0.0000],\n",
       "          [0.2594, 0.0829],\n",
       "          [0.2559, 0.2537]]]])"
      ]
     },
     "execution_count": 111,
     "metadata": {},
     "output_type": "execute_result"
    }
   ],
   "source": [
    "o3_dynamic"
   ]
  },
  {
   "cell_type": "code",
   "execution_count": null,
   "id": "8fb6e985",
   "metadata": {},
   "outputs": [],
   "source": []
  },
  {
   "cell_type": "markdown",
   "id": "1afc867b",
   "metadata": {},
   "source": [
    "## Static Quantization"
   ]
  },
  {
   "cell_type": "code",
   "execution_count": 120,
   "id": "896f10bd",
   "metadata": {},
   "outputs": [],
   "source": [
    "model = SampleNet(quantize_statically=True)"
   ]
  },
  {
   "cell_type": "code",
   "execution_count": 121,
   "id": "b7ad8737",
   "metadata": {},
   "outputs": [
    {
     "data": {
      "text/plain": [
       "SampleNet(\n",
       "  (conv): Conv2d(112, 112, kernel_size=(1, 1), stride=(1, 1), bias=False)\n",
       "  (fc): Linear(in_features=3, out_features=2, bias=False)\n",
       "  (relu): ReLU()\n",
       "  (quant): QuantStub()\n",
       "  (dequant): DeQuantStub()\n",
       ")"
      ]
     },
     "execution_count": 121,
     "metadata": {},
     "output_type": "execute_result"
    }
   ],
   "source": [
    "model"
   ]
  },
  {
   "cell_type": "markdown",
   "id": "7faa3023",
   "metadata": {},
   "source": [
    "#### STEP 1. layer fusion"
   ]
  },
  {
   "cell_type": "code",
   "execution_count": 82,
   "id": "224a0689",
   "metadata": {},
   "outputs": [],
   "source": [
    "fused_model = torch.quantization.fuse_modules(model, [['fc', 'relu']], inplace=False)"
   ]
  },
  {
   "cell_type": "markdown",
   "id": "05f3d292",
   "metadata": {},
   "source": [
    "#### STEP 2. setup config"
   ]
  },
  {
   "cell_type": "code",
   "execution_count": 83,
   "id": "874cecce",
   "metadata": {},
   "outputs": [],
   "source": [
    "fused_model.qconfig = torch.quantization.get_default_qconfig('fbgemm')"
   ]
  },
  {
   "cell_type": "code",
   "execution_count": 84,
   "id": "fd2fadbc",
   "metadata": {},
   "outputs": [
    {
     "data": {
      "text/plain": [
       "SampleNet(\n",
       "  (conv): Conv2d(112, 112, kernel_size=(1, 1), stride=(1, 1), bias=False)\n",
       "  (fc): LinearReLU(\n",
       "    (0): Linear(in_features=3, out_features=2, bias=False)\n",
       "    (1): ReLU()\n",
       "  )\n",
       "  (relu): Identity()\n",
       "  (quant): QuantStub()\n",
       "  (dequant): DeQuantStub()\n",
       ")"
      ]
     },
     "execution_count": 84,
     "metadata": {},
     "output_type": "execute_result"
    }
   ],
   "source": [
    "fused_model"
   ]
  },
  {
   "cell_type": "markdown",
   "id": "b209cb30",
   "metadata": {},
   "source": [
    "#### STEP 3. Insert Observer"
   ]
  },
  {
   "cell_type": "code",
   "execution_count": 85,
   "id": "c9f61112",
   "metadata": {},
   "outputs": [],
   "source": [
    "fused_model_with_observer = torch.quantization.prepare(fused_model)"
   ]
  },
  {
   "cell_type": "code",
   "execution_count": 86,
   "id": "bb1b117a",
   "metadata": {},
   "outputs": [
    {
     "data": {
      "text/plain": [
       "SampleNet(\n",
       "  (conv): Conv2d(\n",
       "    112, 112, kernel_size=(1, 1), stride=(1, 1), bias=False\n",
       "    (activation_post_process): HistogramObserver()\n",
       "  )\n",
       "  (fc): LinearReLU(\n",
       "    (0): Linear(in_features=3, out_features=2, bias=False)\n",
       "    (1): ReLU()\n",
       "    (activation_post_process): HistogramObserver()\n",
       "  )\n",
       "  (relu): Identity()\n",
       "  (quant): QuantStub(\n",
       "    (activation_post_process): HistogramObserver()\n",
       "  )\n",
       "  (dequant): DeQuantStub()\n",
       ")"
      ]
     },
     "execution_count": 86,
     "metadata": {},
     "output_type": "execute_result"
    }
   ],
   "source": [
    "fused_model_with_observer"
   ]
  },
  {
   "cell_type": "code",
   "execution_count": 87,
   "id": "93fc15e2",
   "metadata": {},
   "outputs": [
    {
     "data": {
      "text/plain": [
       "tensor(inf)"
      ]
     },
     "execution_count": 87,
     "metadata": {},
     "output_type": "execute_result"
    }
   ],
   "source": [
    "fused_model_with_observer.fc.activation_post_process.min_val"
   ]
  },
  {
   "cell_type": "code",
   "execution_count": 88,
   "id": "bb393b41",
   "metadata": {},
   "outputs": [
    {
     "data": {
      "text/plain": [
       "tensor(-inf)"
      ]
     },
     "execution_count": 88,
     "metadata": {},
     "output_type": "execute_result"
    }
   ],
   "source": [
    "fused_model_with_observer.fc.activation_post_process.max_val"
   ]
  },
  {
   "cell_type": "markdown",
   "id": "a46afd95",
   "metadata": {},
   "source": [
    "#### STEP 4. calibration"
   ]
  },
  {
   "cell_type": "code",
   "execution_count": 89,
   "id": "ab413af9",
   "metadata": {},
   "outputs": [],
   "source": [
    "for _ in range(100):\n",
    "    inputs = torch.rand(b, w, h, c)\n",
    "    fused_model_with_observer(inputs)"
   ]
  },
  {
   "cell_type": "code",
   "execution_count": 90,
   "id": "d8f5d145",
   "metadata": {},
   "outputs": [
    {
     "data": {
      "text/plain": [
       "tensor(0.)"
      ]
     },
     "execution_count": 90,
     "metadata": {},
     "output_type": "execute_result"
    }
   ],
   "source": [
    "fused_model_with_observer.fc.activation_post_process.min_val"
   ]
  },
  {
   "cell_type": "code",
   "execution_count": 91,
   "id": "0f564718",
   "metadata": {},
   "outputs": [
    {
     "data": {
      "text/plain": [
       "tensor(1.1778)"
      ]
     },
     "execution_count": 91,
     "metadata": {},
     "output_type": "execute_result"
    }
   ],
   "source": [
    "fused_model_with_observer.fc.activation_post_process.max_val"
   ]
  },
  {
   "cell_type": "markdown",
   "id": "c43fd25e",
   "metadata": {},
   "source": [
    "#### STEP 5. convert"
   ]
  },
  {
   "cell_type": "code",
   "execution_count": 92,
   "id": "36564e92",
   "metadata": {},
   "outputs": [],
   "source": [
    "model_int8_static = torch.quantization.convert(fused_model_with_observer)"
   ]
  },
  {
   "cell_type": "code",
   "execution_count": 93,
   "id": "80e9dfc3",
   "metadata": {},
   "outputs": [
    {
     "data": {
      "text/plain": [
       "SampleNet(\n",
       "  (conv): QuantizedConv2d(112, 112, kernel_size=(1, 1), stride=(1, 1), scale=0.020792240276932716, zero_point=68, bias=False)\n",
       "  (fc): QuantizedLinearReLU(in_features=3, out_features=2, scale=0.008626477792859077, zero_point=0, qscheme=torch.per_channel_affine)\n",
       "  (relu): Identity()\n",
       "  (quant): Quantize(scale=tensor([0.0081]), zero_point=tensor([0]), dtype=torch.quint8)\n",
       "  (dequant): DeQuantize()\n",
       ")"
      ]
     },
     "execution_count": 93,
     "metadata": {},
     "output_type": "execute_result"
    }
   ],
   "source": [
    "model_int8_static"
   ]
  },
  {
   "cell_type": "code",
   "execution_count": 94,
   "id": "858b57ab",
   "metadata": {},
   "outputs": [],
   "source": [
    "np.random.seed(100)\n",
    "x = torch.from_numpy(np.random.random((b, w, h, c))).float()"
   ]
  },
  {
   "cell_type": "code",
   "execution_count": 95,
   "id": "e8caa13a",
   "metadata": {},
   "outputs": [
    {
     "data": {
      "text/plain": [
       "tensor([[[[0.0604, 0.0000],\n",
       "          [0.0000, 0.1208],\n",
       "          [0.0000, 0.0000],\n",
       "          ...,\n",
       "          [0.1639, 0.0259],\n",
       "          [0.0431, 0.0000],\n",
       "          [0.0000, 0.0000]],\n",
       "\n",
       "         [[0.1812, 0.0000],\n",
       "          [0.0431, 0.0776],\n",
       "          [0.1553, 0.0000],\n",
       "          ...,\n",
       "          [0.1208, 0.0000],\n",
       "          [0.0000, 0.0776],\n",
       "          [0.1380, 0.0000]],\n",
       "\n",
       "         [[0.0000, 0.0000],\n",
       "          [0.0604, 0.1121],\n",
       "          [0.0000, 0.0949],\n",
       "          ...,\n",
       "          [0.0000, 0.0000],\n",
       "          [0.0000, 0.0000],\n",
       "          [0.0000, 0.1121]],\n",
       "\n",
       "         ...,\n",
       "\n",
       "         [[0.0518, 0.1035],\n",
       "          [0.0086, 0.0000],\n",
       "          [0.0000, 0.0000],\n",
       "          ...,\n",
       "          [0.0086, 0.0604],\n",
       "          [0.2070, 0.0259],\n",
       "          [0.1639, 0.1553]],\n",
       "\n",
       "         [[0.0000, 0.0086],\n",
       "          [0.0000, 0.0000],\n",
       "          [0.0000, 0.0259],\n",
       "          ...,\n",
       "          [0.0000, 0.0000],\n",
       "          [0.0000, 0.1121],\n",
       "          [0.0000, 0.0000]],\n",
       "\n",
       "         [[0.6470, 0.0000],\n",
       "          [0.2502, 0.0863],\n",
       "          [0.5090, 0.0000],\n",
       "          ...,\n",
       "          [0.3192, 0.2415],\n",
       "          [0.4572, 0.0431],\n",
       "          [0.3623, 0.2760]]]])"
      ]
     },
     "execution_count": 95,
     "metadata": {},
     "output_type": "execute_result"
    }
   ],
   "source": [
    "o = model_int8_static(x)\n",
    "o"
   ]
  },
  {
   "cell_type": "code",
   "execution_count": 96,
   "id": "22a50d98",
   "metadata": {},
   "outputs": [],
   "source": [
    "o1_static = model_int8_static.quant(x)\n",
    "o2_static = model_int8_static.conv(o1_static)\n",
    "o3_static = model_int8_static.fc(o2_static)\n",
    "o4_static = model_int8_static.relu(o3_static)\n",
    "o5_static = model_int8_static.dequant(o4_static)"
   ]
  },
  {
   "cell_type": "code",
   "execution_count": 97,
   "id": "79c99f15",
   "metadata": {},
   "outputs": [
    {
     "data": {
      "text/plain": [
       "tensor([[[[ 67,  34,  52],\n",
       "          [104,   1,  15],\n",
       "          [ 83, 102,  17],\n",
       "          ...,\n",
       "          [108,  14,  21],\n",
       "          [ 58,  96, 105],\n",
       "          [ 26,   9,  97]],\n",
       "\n",
       "         [[ 67,  97, 113],\n",
       "          [ 59,  57,  74],\n",
       "          [ 74,  62,  38],\n",
       "          ...,\n",
       "          [123,  31,  91],\n",
       "          [115,  72, 109],\n",
       "          [ 85,  43, 101]],\n",
       "\n",
       "         [[ 29, 114, 113],\n",
       "          [ 78,  63,  37],\n",
       "          [ 56,  88,  36],\n",
       "          ...,\n",
       "          [ 74,   3,  47],\n",
       "          [117,  27,  38],\n",
       "          [101,  71,   3]],\n",
       "\n",
       "         ...,\n",
       "\n",
       "         [[ 38,  53,  18],\n",
       "          [  5,   5, 111],\n",
       "          [ 64,  72,  82],\n",
       "          ...,\n",
       "          [ 65,  98,  19],\n",
       "          [ 31,  83,  20],\n",
       "          [122,  20, 117]],\n",
       "\n",
       "         [[114,  84,  27],\n",
       "          [ 82,  26,  87],\n",
       "          [ 35,  31,  13],\n",
       "          ...,\n",
       "          [ 90,  95,  98],\n",
       "          [ 91,  48, 107],\n",
       "          [  8, 120,  10]],\n",
       "\n",
       "         [[ 73,  52, 123],\n",
       "          [ 26,  26,  89],\n",
       "          [ 95,  44,  25],\n",
       "          ...,\n",
       "          [ 45,  37,  90],\n",
       "          [ 65,  52, 103],\n",
       "          [ 28, 107,  85]]]], dtype=torch.uint8)"
      ]
     },
     "execution_count": 97,
     "metadata": {},
     "output_type": "execute_result"
    }
   ],
   "source": [
    "o1_static.int_repr()"
   ]
  },
  {
   "cell_type": "code",
   "execution_count": 98,
   "id": "9c2b0361",
   "metadata": {},
   "outputs": [
    {
     "data": {
      "text/plain": [
       "tensor([[[[ 70,  60,  65],\n",
       "          [ 61,  73,  64],\n",
       "          [ 69,  76,  86],\n",
       "          ...,\n",
       "          [ 53,  69,  75],\n",
       "          [ 67,  70,  85],\n",
       "          [ 73,  75,  77]],\n",
       "\n",
       "         [[ 62,  57,  68],\n",
       "          [ 63,  67,  61],\n",
       "          [ 74,  50,  73],\n",
       "          ...,\n",
       "          [ 68,  53,  52],\n",
       "          [ 78,  76,  63],\n",
       "          [ 68,  58,  78]],\n",
       "\n",
       "         [[ 75,  72,  74],\n",
       "          [ 56,  74,  69],\n",
       "          [ 80,  70,  53],\n",
       "          ...,\n",
       "          [ 89,  64,  65],\n",
       "          [ 77,  66,  71],\n",
       "          [ 62,  80,  72]],\n",
       "\n",
       "         ...,\n",
       "\n",
       "         [[ 62,  66,  58],\n",
       "          [ 72,  61,  58],\n",
       "          [ 82,  64,  74],\n",
       "          ...,\n",
       "          [ 66,  68,  63],\n",
       "          [ 61,  51,  51],\n",
       "          [ 47,  72,  67]],\n",
       "\n",
       "         [[ 80,  84,  78],\n",
       "          [ 85,  81, 100],\n",
       "          [ 73,  89,  85],\n",
       "          ...,\n",
       "          [ 95,  81,  83],\n",
       "          [ 73,  86,  73],\n",
       "          [ 85,  80,  88]],\n",
       "\n",
       "         [[ 43,  27,  48],\n",
       "          [ 57,  49,  44],\n",
       "          [ 51,  35,  57],\n",
       "          ...,\n",
       "          [ 43,  55,  42],\n",
       "          [ 44,  44,  51],\n",
       "          [ 41,  51,  35]]]], dtype=torch.uint8)"
      ]
     },
     "execution_count": 98,
     "metadata": {},
     "output_type": "execute_result"
    }
   ],
   "source": [
    "o2_static.int_repr()"
   ]
  },
  {
   "cell_type": "code",
   "execution_count": 99,
   "id": "0b6dcd92",
   "metadata": {},
   "outputs": [
    {
     "data": {
      "text/plain": [
       "tensor([[[[ 7,  0],\n",
       "          [ 0, 14],\n",
       "          [ 0,  0],\n",
       "          ...,\n",
       "          [19,  3],\n",
       "          [ 5,  0],\n",
       "          [ 0,  0]],\n",
       "\n",
       "         [[21,  0],\n",
       "          [ 5,  9],\n",
       "          [18,  0],\n",
       "          ...,\n",
       "          [14,  0],\n",
       "          [ 0,  9],\n",
       "          [16,  0]],\n",
       "\n",
       "         [[ 0,  0],\n",
       "          [ 7, 13],\n",
       "          [ 0, 11],\n",
       "          ...,\n",
       "          [ 0,  0],\n",
       "          [ 0,  0],\n",
       "          [ 0, 13]],\n",
       "\n",
       "         ...,\n",
       "\n",
       "         [[ 6, 12],\n",
       "          [ 1,  0],\n",
       "          [ 0,  0],\n",
       "          ...,\n",
       "          [ 1,  7],\n",
       "          [24,  3],\n",
       "          [19, 18]],\n",
       "\n",
       "         [[ 0,  1],\n",
       "          [ 0,  0],\n",
       "          [ 0,  3],\n",
       "          ...,\n",
       "          [ 0,  0],\n",
       "          [ 0, 13],\n",
       "          [ 0,  0]],\n",
       "\n",
       "         [[75,  0],\n",
       "          [29, 10],\n",
       "          [59,  0],\n",
       "          ...,\n",
       "          [37, 28],\n",
       "          [53,  5],\n",
       "          [42, 32]]]], dtype=torch.uint8)"
      ]
     },
     "execution_count": 99,
     "metadata": {},
     "output_type": "execute_result"
    }
   ],
   "source": [
    "o3_static.int_repr()"
   ]
  },
  {
   "cell_type": "code",
   "execution_count": 100,
   "id": "90164cbd",
   "metadata": {},
   "outputs": [
    {
     "data": {
      "text/plain": [
       "tensor([[[[ 7,  0],\n",
       "          [ 0, 14],\n",
       "          [ 0,  0],\n",
       "          ...,\n",
       "          [19,  3],\n",
       "          [ 5,  0],\n",
       "          [ 0,  0]],\n",
       "\n",
       "         [[21,  0],\n",
       "          [ 5,  9],\n",
       "          [18,  0],\n",
       "          ...,\n",
       "          [14,  0],\n",
       "          [ 0,  9],\n",
       "          [16,  0]],\n",
       "\n",
       "         [[ 0,  0],\n",
       "          [ 7, 13],\n",
       "          [ 0, 11],\n",
       "          ...,\n",
       "          [ 0,  0],\n",
       "          [ 0,  0],\n",
       "          [ 0, 13]],\n",
       "\n",
       "         ...,\n",
       "\n",
       "         [[ 6, 12],\n",
       "          [ 1,  0],\n",
       "          [ 0,  0],\n",
       "          ...,\n",
       "          [ 1,  7],\n",
       "          [24,  3],\n",
       "          [19, 18]],\n",
       "\n",
       "         [[ 0,  1],\n",
       "          [ 0,  0],\n",
       "          [ 0,  3],\n",
       "          ...,\n",
       "          [ 0,  0],\n",
       "          [ 0, 13],\n",
       "          [ 0,  0]],\n",
       "\n",
       "         [[75,  0],\n",
       "          [29, 10],\n",
       "          [59,  0],\n",
       "          ...,\n",
       "          [37, 28],\n",
       "          [53,  5],\n",
       "          [42, 32]]]], dtype=torch.uint8)"
      ]
     },
     "execution_count": 100,
     "metadata": {},
     "output_type": "execute_result"
    }
   ],
   "source": [
    "o4_static.int_repr()"
   ]
  },
  {
   "cell_type": "code",
   "execution_count": 101,
   "id": "0b15e926",
   "metadata": {},
   "outputs": [
    {
     "data": {
      "text/plain": [
       "tensor([[[[0.0604, 0.0000],\n",
       "          [0.0000, 0.1208],\n",
       "          [0.0000, 0.0000],\n",
       "          ...,\n",
       "          [0.1639, 0.0259],\n",
       "          [0.0431, 0.0000],\n",
       "          [0.0000, 0.0000]],\n",
       "\n",
       "         [[0.1812, 0.0000],\n",
       "          [0.0431, 0.0776],\n",
       "          [0.1553, 0.0000],\n",
       "          ...,\n",
       "          [0.1208, 0.0000],\n",
       "          [0.0000, 0.0776],\n",
       "          [0.1380, 0.0000]],\n",
       "\n",
       "         [[0.0000, 0.0000],\n",
       "          [0.0604, 0.1121],\n",
       "          [0.0000, 0.0949],\n",
       "          ...,\n",
       "          [0.0000, 0.0000],\n",
       "          [0.0000, 0.0000],\n",
       "          [0.0000, 0.1121]],\n",
       "\n",
       "         ...,\n",
       "\n",
       "         [[0.0518, 0.1035],\n",
       "          [0.0086, 0.0000],\n",
       "          [0.0000, 0.0000],\n",
       "          ...,\n",
       "          [0.0086, 0.0604],\n",
       "          [0.2070, 0.0259],\n",
       "          [0.1639, 0.1553]],\n",
       "\n",
       "         [[0.0000, 0.0086],\n",
       "          [0.0000, 0.0000],\n",
       "          [0.0000, 0.0259],\n",
       "          ...,\n",
       "          [0.0000, 0.0000],\n",
       "          [0.0000, 0.1121],\n",
       "          [0.0000, 0.0000]],\n",
       "\n",
       "         [[0.6470, 0.0000],\n",
       "          [0.2502, 0.0863],\n",
       "          [0.5090, 0.0000],\n",
       "          ...,\n",
       "          [0.3192, 0.2415],\n",
       "          [0.4572, 0.0431],\n",
       "          [0.3623, 0.2760]]]])"
      ]
     },
     "execution_count": 101,
     "metadata": {},
     "output_type": "execute_result"
    }
   ],
   "source": [
    "o5_static"
   ]
  },
  {
   "cell_type": "code",
   "execution_count": 102,
   "id": "93d5fd84",
   "metadata": {},
   "outputs": [],
   "source": [
    "# torch.quantize_per_tensor(o2_static.data.cpu(), scale=0.02094164490699768, zero_point=61, dtype=torch.quint8).int_repr()"
   ]
  },
  {
   "cell_type": "code",
   "execution_count": null,
   "id": "b5c44204",
   "metadata": {},
   "outputs": [],
   "source": []
  }
 ],
 "metadata": {
  "kernelspec": {
   "display_name": "env_hello",
   "language": "python",
   "name": "env_hello"
  },
  "language_info": {
   "codemirror_mode": {
    "name": "ipython",
    "version": 3
   },
   "file_extension": ".py",
   "mimetype": "text/x-python",
   "name": "python",
   "nbconvert_exporter": "python",
   "pygments_lexer": "ipython3",
   "version": "3.9.5"
  }
 },
 "nbformat": 4,
 "nbformat_minor": 5
}
