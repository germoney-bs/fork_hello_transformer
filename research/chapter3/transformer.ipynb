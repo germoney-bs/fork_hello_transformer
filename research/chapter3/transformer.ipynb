{
 "cells": [
  {
   "cell_type": "code",
   "execution_count": 26,
   "metadata": {},
   "outputs": [],
   "source": [
    "import math\n",
    "import numpy as np\n",
    "from copy import copy\n",
    "import torch\n",
    "import torch.nn.functional as F\n",
    "from torch.autograd import Variable\n",
    "from torch import nn"
   ]
  },
  {
   "cell_type": "code",
   "execution_count": 2,
   "metadata": {},
   "outputs": [],
   "source": [
    "B = 64      # 배치 사이즈\n",
    "M = 10      # 토큰의 최대 길이\n",
    "V = 1024    # 토큰의 개수\n",
    "N = 8       # 멀티헤드 개수\n",
    "H = 512     # 토큰의 임베딩 사이즈\n",
    "EXP = 2048  # 확장 사이즈 (FeedForward 클래스 참고)\n",
    "L = 6       # 인코더/디코더 레이어 개수"
   ]
  },
  {
   "cell_type": "code",
   "execution_count": 3,
   "metadata": {},
   "outputs": [],
   "source": [
    "def attention(query, key, value, scale):\n",
    "    score = torch.matmul(query, key.transpose(-2, -1)) / scale\n",
    "    prob = F.softmax(score, dim=-1)\n",
    "    attn = torch.matmul(prob, value)\n",
    "    return attn"
   ]
  },
  {
   "cell_type": "code",
   "execution_count": 4,
   "metadata": {},
   "outputs": [],
   "source": [
    "class MultiHeadAttention(nn.Module):\n",
    "    def __init__(self, num_head, hidden_size):\n",
    "        super(MultiHeadAttention, self).__init__()\n",
    "        self.num_head = num_head\n",
    "        self.dk = hidden_size // self.num_head\n",
    "    \n",
    "    def forward(self, query, key, value):\n",
    "        '''\n",
    "        x = torch.rand((B, M, H))\n",
    "        m = MultiHeadAttention(N, H)\n",
    "        v = m(x, x, x)\n",
    "        v.shape  # torch.Size([64, 10, 512])\n",
    "        '''\n",
    "        n_batch = query.shape[0]\n",
    "        query = query.view(n_batch, -1, self.num_head, self.dk).transpose(1, 2)\n",
    "        key = key.view(n_batch, -1, self.num_head, self.dk).transpose(1, 2)\n",
    "        value = value.view(n_batch, -1, self.num_head, self.dk).transpose(1, 2)\n",
    "        \n",
    "        x = attention(query, key, value, self.dk)\n",
    "        x = x.transpose(1, 2).contiguous().view(n_batch, -1, self.dk * self.num_head)\n",
    "        return x"
   ]
  },
  {
   "cell_type": "code",
   "execution_count": 5,
   "metadata": {},
   "outputs": [
    {
     "data": {
      "text/plain": [
       "torch.Size([64, 10, 512])"
      ]
     },
     "execution_count": 5,
     "metadata": {},
     "output_type": "execute_result"
    }
   ],
   "source": [
    "x = torch.rand((B, M, H))\n",
    "m = MultiHeadAttention(N, H)\n",
    "v = m(x, x, x)\n",
    "v.shape  # torch.Size([64, 10, 512])"
   ]
  },
  {
   "cell_type": "code",
   "execution_count": 6,
   "metadata": {},
   "outputs": [],
   "source": [
    "class FeedForward(nn.Module):\n",
    "    def __init__(self, hidden_size, expand_size):\n",
    "        super(FeedForward, self).__init__()\n",
    "        self.linear_1 = nn.Linear(hidden_size, expand_size)\n",
    "        self.linear_2 = nn.Linear(expand_size, hidden_size)\n",
    "        \n",
    "    def forward(self, x):\n",
    "        '''\n",
    "        x = torch.rand((B, M, H))\n",
    "        m = FeedForward(H, EXP)\n",
    "        v = m(x)\n",
    "        v.shape  # torch.Size([64, 10, 512])\n",
    "        '''\n",
    "        x = self.linear_1(x)\n",
    "        x = self.linear_2(x)\n",
    "        return x"
   ]
  },
  {
   "cell_type": "code",
   "execution_count": 7,
   "metadata": {},
   "outputs": [
    {
     "data": {
      "text/plain": [
       "torch.Size([64, 10, 512])"
      ]
     },
     "execution_count": 7,
     "metadata": {},
     "output_type": "execute_result"
    }
   ],
   "source": [
    "x = torch.rand((B, M, H))\n",
    "m = FeedForward(H, EXP)\n",
    "v = m(x)\n",
    "v.shape  # torch.Size([64, 10, 512])"
   ]
  },
  {
   "cell_type": "code",
   "execution_count": 8,
   "metadata": {},
   "outputs": [],
   "source": [
    "class EncoderLayer(nn.Module):\n",
    "    def __init__(self, hidden_size):\n",
    "        super(EncoderLayer, self).__init__()\n",
    "        self.self_attention = MultiHeadAttention(N, hidden_size)\n",
    "        self.feedforward = FeedForward(hidden_size, EXP)\n",
    "        \n",
    "    def forward(self, x):\n",
    "        '''\n",
    "        x = torch.rand((B, M, H))\n",
    "        m = EncoderLayer(H)\n",
    "        v = m(x)\n",
    "        v.shape  # torch.Size([64, 10, 512])\n",
    "        '''\n",
    "        x = self.self_attention(x, x, x)\n",
    "        x = self.feedforward(x)\n",
    "        return x"
   ]
  },
  {
   "cell_type": "code",
   "execution_count": 9,
   "metadata": {},
   "outputs": [
    {
     "data": {
      "text/plain": [
       "torch.Size([64, 10, 512])"
      ]
     },
     "execution_count": 9,
     "metadata": {},
     "output_type": "execute_result"
    }
   ],
   "source": [
    "x = torch.rand((B, M, H))\n",
    "m = EncoderLayer(H)\n",
    "v = m(x)\n",
    "v.shape  # torch.Size([64, 10, 512])"
   ]
  },
  {
   "cell_type": "code",
   "execution_count": 10,
   "metadata": {},
   "outputs": [],
   "source": [
    "class Embedding(nn.Module):\n",
    "    def __init__(self, n_vocab, hidden_size):\n",
    "        super(Embedding, self).__init__()\n",
    "        self.hidden_size = hidden_size\n",
    "        self.embedding = nn.Embedding(n_vocab, hidden_size)\n",
    "        \n",
    "    def forward(self, x):\n",
    "        '''\n",
    "        data = np.random.randint(0, V, (B, M))\n",
    "        x = torch.from_numpy(data)\n",
    "        m = Embedding(V, H)\n",
    "        v = m(x)\n",
    "        v.shape  # torch.Size([64, 10, 512])\n",
    "        '''\n",
    "        return self.embedding(x)"
   ]
  },
  {
   "cell_type": "code",
   "execution_count": 11,
   "metadata": {},
   "outputs": [
    {
     "data": {
      "text/plain": [
       "torch.Size([64, 10, 512])"
      ]
     },
     "execution_count": 11,
     "metadata": {},
     "output_type": "execute_result"
    }
   ],
   "source": [
    "data = np.random.randint(0, V, (B, M))\n",
    "x = torch.from_numpy(data)\n",
    "m = Embedding(V, H)\n",
    "v = m(x)\n",
    "v.shape  # torch.Size([64, 10, 512])"
   ]
  },
  {
   "cell_type": "code",
   "execution_count": 12,
   "metadata": {},
   "outputs": [],
   "source": [
    "class Encoder(nn.Module):\n",
    "    def __init__(self, n_layers):\n",
    "        super(Encoder, self).__init__()\n",
    "        self.n_layers = n_layers\n",
    "        self.embedding = Embedding(V, H)\n",
    "        self.layers = [EncoderLayer(H) for i in range(n_layers)]\n",
    "    \n",
    "    def forward(self, x):\n",
    "        '''\n",
    "        data = np.random.randint(0, V, (B, M))\n",
    "        x = torch.from_numpy(data)\n",
    "        m = Encoder(L)\n",
    "        v = m(x)\n",
    "        v.shape  # torch.Size([64, 10, 512])\n",
    "        '''\n",
    "        x = self.embedding(x)\n",
    "        for layer in self.layers:\n",
    "            x = layer(x)\n",
    "        return x"
   ]
  },
  {
   "cell_type": "code",
   "execution_count": 13,
   "metadata": {},
   "outputs": [
    {
     "data": {
      "text/plain": [
       "torch.Size([64, 10, 512])"
      ]
     },
     "execution_count": 13,
     "metadata": {},
     "output_type": "execute_result"
    }
   ],
   "source": [
    "data = np.random.randint(0, V, (B, M))\n",
    "x = torch.from_numpy(data)\n",
    "m = Encoder(L)\n",
    "v = m(x)\n",
    "v.shape  # torch.Size([64, 10, 512])"
   ]
  },
  {
   "cell_type": "code",
   "execution_count": 14,
   "metadata": {},
   "outputs": [],
   "source": [
    "class DecoderLayer(nn.Module):\n",
    "    def __init__(self, n_head, hidden_size):\n",
    "        super(DecoderLayer, self).__init__()\n",
    "        self.self_attention = MultiHeadAttention(n_head, hidden_size)\n",
    "        self.encdec_attention = MultiHeadAttention(n_head, hidden_size)\n",
    "        self.feedforward = FeedForward(hidden_size, 2048)\n",
    "        \n",
    "    def forward(self, x, memory):\n",
    "        '''\n",
    "        x = torch.rand((B, M, H))\n",
    "        mem = copy(x)\n",
    "        m = DecoderLayer(N, H)\n",
    "        v = m(x, mem)\n",
    "        v.shape  # torch.Size([64, 10, 512])\n",
    "        '''\n",
    "        x = self.self_attention(x, memory, memory)\n",
    "        return x"
   ]
  },
  {
   "cell_type": "code",
   "execution_count": 15,
   "metadata": {},
   "outputs": [
    {
     "data": {
      "text/plain": [
       "torch.Size([64, 10, 512])"
      ]
     },
     "execution_count": 15,
     "metadata": {},
     "output_type": "execute_result"
    }
   ],
   "source": [
    "x = torch.rand((B, M, H))\n",
    "mem = copy(x)\n",
    "m = DecoderLayer(N, H)\n",
    "v = m(x, mem)\n",
    "v.shape  # torch.Size([64, 10, 512])"
   ]
  },
  {
   "cell_type": "code",
   "execution_count": 16,
   "metadata": {},
   "outputs": [],
   "source": [
    "class Decoder(nn.Module):\n",
    "    def __init__(self, n_layers):\n",
    "        super(Decoder, self).__init__()\n",
    "        self.embedding = Embedding(V, H)\n",
    "        self.layers = [DecoderLayer(N, H) for i in range(n_layers)]\n",
    "        \n",
    "    def forward(self, x, memory):\n",
    "        '''\n",
    "        data = np.random.randint(0, V, (B, M))\n",
    "        x = torch.from_numpy(data)\n",
    "        mem = torch.rand((B, M, H))\n",
    "        m = Decoder(L)\n",
    "        v = m(x, mem)\n",
    "        v.shape  # torch.Size([64, 10, 512])\n",
    "        '''\n",
    "        x = self.embedding(x)\n",
    "        for layer in self.layers:\n",
    "            x = layer(x, memory)\n",
    "        return x"
   ]
  },
  {
   "cell_type": "code",
   "execution_count": 17,
   "metadata": {},
   "outputs": [
    {
     "data": {
      "text/plain": [
       "torch.Size([64, 10, 512])"
      ]
     },
     "execution_count": 17,
     "metadata": {},
     "output_type": "execute_result"
    }
   ],
   "source": [
    "data = np.random.randint(0, V, (B, M))\n",
    "x = torch.from_numpy(data)\n",
    "mem = torch.rand((B, M, H))\n",
    "m = Decoder(L)\n",
    "v = m(x, mem)\n",
    "v.shape  # "
   ]
  },
  {
   "cell_type": "code",
   "execution_count": 18,
   "metadata": {},
   "outputs": [],
   "source": [
    "class Transformer(nn.Module):\n",
    "    def __init__(self):\n",
    "        super(Transformer, self).__init__()\n",
    "        self.encoder = Encoder(L)\n",
    "        self.decoder = Decoder(L)\n",
    "        \n",
    "    def forward(self, src, dst):\n",
    "        '''\n",
    "        data = np.random.randint(0, V, (B, M))\n",
    "        src = torch.from_numpy(data)\n",
    "        data = np.random.randint(0, V, (B, M))\n",
    "        dst = torch.from_numpy(data)\n",
    "        src.shape, dst.shape\n",
    "\n",
    "        m = Transformer()\n",
    "        v = m(src, dst)\n",
    "        v.shape  # torch.Size([64, 10, 512])\n",
    "        '''\n",
    "        src_encoded = self.encoder(src)\n",
    "        dst_decoded = self.decoder(dst, src_encoded)\n",
    "        \n",
    "        return dst_decoded"
   ]
  },
  {
   "cell_type": "code",
   "execution_count": 19,
   "metadata": {},
   "outputs": [
    {
     "data": {
      "text/plain": [
       "torch.Size([64, 10, 512])"
      ]
     },
     "execution_count": 19,
     "metadata": {},
     "output_type": "execute_result"
    }
   ],
   "source": [
    "data = np.random.randint(0, V, (B, M))\n",
    "src = torch.from_numpy(data)\n",
    "data = np.random.randint(0, V, (B, M))\n",
    "dst = torch.from_numpy(data)\n",
    "src.shape, dst.shape\n",
    "\n",
    "m = Transformer()\n",
    "v = m(src, dst)\n",
    "v.shape  # torch.Size([64, 10, 512])"
   ]
  },
  {
   "cell_type": "code",
   "execution_count": 44,
   "metadata": {},
   "outputs": [],
   "source": [
    "class PositionalEncoding(nn.Module):\n",
    "    def __init__(self, hidden_size):\n",
    "        super(PositionalEncoding, self).__init__()\n",
    "        pos_encoding = torch.zeros(M, hidden_size)\n",
    "        position = torch.arange(0, M).unsqueeze(1)\n",
    "        div_term = torch.exp(torch.arange(0, hidden_size, 2) *\n",
    "                             -(math.log(10000.0) / hidden_size))\n",
    "        pos_encoding[:, 0::2] = torch.sin(position * div_term)\n",
    "        pos_encoding[:, 1::2] = torch.cos(position * div_term)\n",
    "        self.pos_encoding = pos_encoding.unsqueeze(0)\n",
    "        \n",
    "    def forward(self, x):\n",
    "        '''\n",
    "        x = torch.rand((B, M, H))\n",
    "        m = PositionalEncoding(H)\n",
    "        v = m(x)\n",
    "        v.shape  # torch.Size([64, 10, 512])\n",
    "        '''\n",
    "        x = x + Variable(self.pos_encoding[:, :x.size(1)], \n",
    "                         requires_grad=False)\n",
    "        return x"
   ]
  },
  {
   "cell_type": "code",
   "execution_count": 43,
   "metadata": {},
   "outputs": [
    {
     "data": {
      "text/plain": [
       "torch.Size([64, 10, 512])"
      ]
     },
     "execution_count": 43,
     "metadata": {},
     "output_type": "execute_result"
    }
   ],
   "source": [
    "x = torch.rand((B, M, H))\n",
    "m = PositionalEncoding(H)\n",
    "v = m(x)\n",
    "v.shape  # torch.Size([64, 10, 512])"
   ]
  },
  {
   "cell_type": "code",
   "execution_count": null,
   "metadata": {},
   "outputs": [],
   "source": []
  },
  {
   "cell_type": "code",
   "execution_count": 45,
   "metadata": {},
   "outputs": [],
   "source": [
    "class Encoder(nn.Module):\n",
    "    def __init__(self, n_layers):\n",
    "        super(Encoder, self).__init__()\n",
    "        self.n_layers = n_layers\n",
    "        self.embedding = Embedding(V, H)\n",
    "        self.position = PositionalEncoding(H)\n",
    "        self.layers = [EncoderLayer(H) for i in range(n_layers)]\n",
    "    \n",
    "    def forward(self, x):\n",
    "        '''\n",
    "        data = np.random.randint(0, V, (B, M))\n",
    "        x = torch.from_numpy(data)\n",
    "        m = Encoder(L)\n",
    "        v = m(x)\n",
    "        v.shape  # torch.Size([64, 10, 512])\n",
    "        '''\n",
    "        x = self.embedding(x)\n",
    "        x = self.position(x)\n",
    "        for layer in self.layers:\n",
    "            x = layer(x)\n",
    "        return x"
   ]
  },
  {
   "cell_type": "code",
   "execution_count": 47,
   "metadata": {},
   "outputs": [
    {
     "data": {
      "text/plain": [
       "torch.Size([64, 10, 512])"
      ]
     },
     "execution_count": 47,
     "metadata": {},
     "output_type": "execute_result"
    }
   ],
   "source": [
    "data = np.random.randint(0, V, (B, M))\n",
    "x = torch.from_numpy(data)\n",
    "m = Encoder(L)\n",
    "v = m(x)\n",
    "v.shape  # torch.Size([64, 10, 512])"
   ]
  },
  {
   "cell_type": "code",
   "execution_count": 48,
   "metadata": {},
   "outputs": [],
   "source": [
    "class Decoder(nn.Module):\n",
    "    def __init__(self, n_layers):\n",
    "        super(Decoder, self).__init__()\n",
    "        self.embedding = Embedding(V, H)\n",
    "        self.position = PositionalEncoding(H)\n",
    "        self.layers = [DecoderLayer(N, H) for i in range(n_layers)]\n",
    "        \n",
    "    def forward(self, x, memory):\n",
    "        '''\n",
    "        data = np.random.randint(0, V, (B, M))\n",
    "        x = torch.from_numpy(data)\n",
    "        mem = torch.rand((B, M, H))\n",
    "        m = Decoder(L)\n",
    "        v = m(x, mem)\n",
    "        v.shape  # torch.Size([64, 10, 512])\n",
    "        '''\n",
    "        x = self.embedding(x)\n",
    "        x = self.position(x)\n",
    "        for layer in self.layers:\n",
    "            x = layer(x, memory)\n",
    "        return x"
   ]
  },
  {
   "cell_type": "code",
   "execution_count": 49,
   "metadata": {},
   "outputs": [
    {
     "data": {
      "text/plain": [
       "torch.Size([64, 10, 512])"
      ]
     },
     "execution_count": 49,
     "metadata": {},
     "output_type": "execute_result"
    }
   ],
   "source": [
    "data = np.random.randint(0, V, (B, M))\n",
    "x = torch.from_numpy(data)\n",
    "mem = torch.rand((B, M, H))\n",
    "m = Decoder(L)\n",
    "v = m(x, mem)\n",
    "v.shape  # torch.Size([64, 10, 512])"
   ]
  },
  {
   "cell_type": "code",
   "execution_count": null,
   "metadata": {},
   "outputs": [],
   "source": []
  },
  {
   "cell_type": "code",
   "execution_count": 50,
   "metadata": {},
   "outputs": [],
   "source": [
    "### BLEU"
   ]
  },
  {
   "cell_type": "code",
   "execution_count": 73,
   "metadata": {},
   "outputs": [],
   "source": [
    "from nltk import ngrams\n",
    "from collections import Counter"
   ]
  },
  {
   "cell_type": "code",
   "execution_count": 74,
   "metadata": {},
   "outputs": [],
   "source": [
    "def word_counter(tokens, n):\n",
    "    return Counter(ngrams(tokens, n))"
   ]
  },
  {
   "cell_type": "code",
   "execution_count": 75,
   "metadata": {},
   "outputs": [],
   "source": [
    "def modified_count(candidate, references, n):\n",
    "    cand_cnt = word_counter(candidate.split(), n)\n",
    "    temp = Counter()\n",
    "    for ref in references:\n",
    "        tokens = ref.split()\n",
    "        ref_cnt = word_counter(tokens, n)\n",
    "        for k, v in ref_cnt.items():\n",
    "            if k in temp:\n",
    "                temp[k] = max(ref_cnt[k], temp[k])\n",
    "            else:\n",
    "                temp[k] = ref_cnt[k]\n",
    "    \n",
    "    return Counter({tok:min(temp[tok], cand_cnt[tok]) for tok in cand_cnt})\n"
   ]
  },
  {
   "cell_type": "code",
   "execution_count": 76,
   "metadata": {},
   "outputs": [],
   "source": [
    "def modified_ngram_precision(candidate, references, n):\n",
    "    min_cnt = modified_count(candidate, references, n)\n",
    "    total_cnt = word_counter(candidate.split(), n)\n",
    "    \n",
    "    min_cnt_sum = sum(min_cnt.values())\n",
    "    total_cnt_sum = sum(total_cnt.values())\n",
    "    #print('modified {}-gram precision: {}/{}'.format(n, min_cnt_sum, total_cnt_sum))\n",
    "    return min_cnt_sum / total_cnt_sum"
   ]
  },
  {
   "cell_type": "code",
   "execution_count": 77,
   "metadata": {},
   "outputs": [],
   "source": [
    "references = [\n",
    "    'You know, I always love you so much',\n",
    "    'Know right? I always love you a lot',\n",
    "]"
   ]
  },
  {
   "cell_type": "code",
   "execution_count": 78,
   "metadata": {},
   "outputs": [],
   "source": [
    "def brevity_penalty(candidate, references):\n",
    "    candidate = candidate.lower()\n",
    "    cand_len = len(candidate.split())\n",
    "    diff = np.inf\n",
    "    for ref in references:\n",
    "        ref = ref.lower()\n",
    "        tokens = ref.split()\n",
    "        if diff > abs(len(tokens) - cand_len):\n",
    "            ref_len = len(tokens)\n",
    "            diff = abs(len(tokens) - cand_len)\n",
    "            \n",
    "    if cand_len > ref_len:\n",
    "        return 1\n",
    "    elif cand_len == 0:\n",
    "        return 0\n",
    "    else:\n",
    "        return np.exp(1 - ref_len/cand_len)"
   ]
  },
  {
   "cell_type": "code",
   "execution_count": 102,
   "metadata": {},
   "outputs": [],
   "source": [
    "def bleu_score(candidate, reference_list):\n",
    "    candidate = candidate.lower()\n",
    "    cand_len = len(candidate.split())\n",
    "    weights = [1/cand_len] * cand_len\n",
    "    bp = brevity_penalty(candidate, references)\n",
    "    precisions = [modified_ngram_precision(candidate, references, n=i+1) for i in range(len(weights))] \n",
    "    \n",
    "    score = 0\n",
    "    for w, p in zip(weights, precisions):\n",
    "        print(w, p, score)\n",
    "        if p == 0:\n",
    "            continue\n",
    "        score += (w * np.log(p))\n",
    "    \n",
    "    print(bp)\n",
    "    return bp * np.exp(score)"
   ]
  },
  {
   "cell_type": "code",
   "execution_count": 103,
   "metadata": {},
   "outputs": [
    {
     "name": "stdout",
     "output_type": "stream",
     "text": [
      "0.125 0.375 0\n",
      "0.125 0.2857142857142857 -0.12260365662646577\n",
      "0.125 0.16666666666666666 -0.2791990276883868\n",
      "0.125 0.0 -0.5031689613418937\n",
      "0.125 0.0 -0.5031689613418937\n",
      "0.125 0.0 -0.5031689613418937\n",
      "0.125 0.0 -0.5031689613418937\n",
      "0.125 0.0 -0.5031689613418937\n",
      "1.0\n"
     ]
    },
    {
     "data": {
      "text/plain": [
       "0.6046116297711386"
      ]
     },
     "execution_count": 103,
     "metadata": {},
     "output_type": "execute_result"
    }
   ],
   "source": [
    "cand = 'know that I always love you that much.'\n",
    "bleu_score(cand, references)"
   ]
  },
  {
   "cell_type": "code",
   "execution_count": 104,
   "metadata": {},
   "outputs": [
    {
     "name": "stdout",
     "output_type": "stream",
     "text": [
      "0.25 0.5 0\n",
      "0.25 0.0 -0.17328679513998632\n",
      "0.25 0.0 -0.17328679513998632\n",
      "0.25 0.0 -0.17328679513998632\n",
      "0.36787944117144233\n"
     ]
    },
    {
     "data": {
      "text/plain": [
       "0.30934850332660563"
      ]
     },
     "execution_count": 104,
     "metadata": {},
     "output_type": "execute_result"
    }
   ],
   "source": [
    "cand = 'you love I always.'\n",
    "bleu_score(cand, references)"
   ]
  },
  {
   "cell_type": "code",
   "execution_count": 105,
   "metadata": {},
   "outputs": [
    {
     "name": "stdout",
     "output_type": "stream",
     "text": [
      "0.2 0.0 0\n",
      "0.2 0.0 0\n",
      "0.2 0.0 0\n",
      "0.2 0.0 0\n",
      "0.2 0.0 0\n",
      "0.5488116360940264\n"
     ]
    },
    {
     "data": {
      "text/plain": [
       "0.5488116360940264"
      ]
     },
     "execution_count": 105,
     "metadata": {},
     "output_type": "execute_result"
    }
   ],
   "source": [
    "cand = 'I I I I I.'\n",
    "bleu_score(cand, references)"
   ]
  },
  {
   "cell_type": "code",
   "execution_count": 106,
   "metadata": {},
   "outputs": [],
   "source": [
    "from nltk.translate.bleu_score import sentence_bleu"
   ]
  },
  {
   "cell_type": "code",
   "execution_count": 108,
   "metadata": {},
   "outputs": [
    {
     "name": "stdout",
     "output_type": "stream",
     "text": [
      "BLEU score -> 3.0199442872921993e-234\n"
     ]
    },
    {
     "name": "stderr",
     "output_type": "stream",
     "text": [
      "/heavy_data/jkfirst/workspace/git/publish/env_pub/lib/python3.6/site-packages/nltk/translate/bleu_score.py:516: UserWarning: \n",
      "The hypothesis contains 0 counts of 2-gram overlaps.\n",
      "Therefore the BLEU score evaluates to 0, independently of\n",
      "how many N-gram overlaps of lower order it contains.\n",
      "Consider using lower n-gram order or use SmoothingFunction()\n",
      "  warnings.warn(_msg)\n",
      "/heavy_data/jkfirst/workspace/git/publish/env_pub/lib/python3.6/site-packages/nltk/translate/bleu_score.py:516: UserWarning: \n",
      "The hypothesis contains 0 counts of 3-gram overlaps.\n",
      "Therefore the BLEU score evaluates to 0, independently of\n",
      "how many N-gram overlaps of lower order it contains.\n",
      "Consider using lower n-gram order or use SmoothingFunction()\n",
      "  warnings.warn(_msg)\n",
      "/heavy_data/jkfirst/workspace/git/publish/env_pub/lib/python3.6/site-packages/nltk/translate/bleu_score.py:516: UserWarning: \n",
      "The hypothesis contains 0 counts of 4-gram overlaps.\n",
      "Therefore the BLEU score evaluates to 0, independently of\n",
      "how many N-gram overlaps of lower order it contains.\n",
      "Consider using lower n-gram order or use SmoothingFunction()\n",
      "  warnings.warn(_msg)\n"
     ]
    }
   ],
   "source": [
    "candidate = 'I I I I I.'.split()\n",
    "print('BLEU score -> {}'.format(sentence_bleu(references, candidate )))"
   ]
  },
  {
   "cell_type": "code",
   "execution_count": 110,
   "metadata": {},
   "outputs": [
    {
     "name": "stdout",
     "output_type": "stream",
     "text": [
      "BLEU score -> 5.548953570484417e-235\n"
     ]
    }
   ],
   "source": [
    "candidate = 'you love I always.'.split()\n",
    "print('BLEU score -> {}'.format(sentence_bleu(references, candidate )))"
   ]
  },
  {
   "cell_type": "code",
   "execution_count": 111,
   "metadata": {},
   "outputs": [
    {
     "name": "stdout",
     "output_type": "stream",
     "text": [
      "BLEU score -> 3.706738513091155e-233\n"
     ]
    }
   ],
   "source": [
    "candidate = 'know that I always love you that much.'.split()\n",
    "print('BLEU score -> {}'.format(sentence_bleu(references, candidate )))"
   ]
  },
  {
   "cell_type": "code",
   "execution_count": null,
   "metadata": {},
   "outputs": [],
   "source": []
  }
 ],
 "metadata": {
  "kernelspec": {
   "display_name": "env_pub",
   "language": "python",
   "name": "env_pub"
  },
  "language_info": {
   "codemirror_mode": {
    "name": "ipython",
    "version": 3
   },
   "file_extension": ".py",
   "mimetype": "text/x-python",
   "name": "python",
   "nbconvert_exporter": "python",
   "pygments_lexer": "ipython3",
   "version": "3.6.9"
  }
 },
 "nbformat": 4,
 "nbformat_minor": 2
}
