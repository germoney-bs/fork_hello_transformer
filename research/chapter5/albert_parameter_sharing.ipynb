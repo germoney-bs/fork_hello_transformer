{
 "cells": [
  {
   "cell_type": "markdown",
   "id": "ca9286a2",
   "metadata": {},
   "source": [
    "## ALBERT's Cross-layer parameter sharing"
   ]
  },
  {
   "cell_type": "code",
   "execution_count": 6,
   "id": "1be09e15",
   "metadata": {},
   "outputs": [],
   "source": [
    "from transformers import AlbertModel, AlbertTokenizer\n",
    "import torch"
   ]
  },
  {
   "cell_type": "code",
   "execution_count": 7,
   "id": "509a5a96",
   "metadata": {},
   "outputs": [
    {
     "data": {
      "application/vnd.jupyter.widget-view+json": {
       "model_id": "e5cac642b6994ea78d9501a87834811f",
       "version_major": 2,
       "version_minor": 0
      },
      "text/plain": [
       "Downloading:   0%|          | 0.00/760k [00:00<?, ?B/s]"
      ]
     },
     "metadata": {},
     "output_type": "display_data"
    },
    {
     "data": {
      "application/vnd.jupyter.widget-view+json": {
       "model_id": "a18af61003c743bdb3507c8d65037355",
       "version_major": 2,
       "version_minor": 0
      },
      "text/plain": [
       "Downloading:   0%|          | 0.00/1.31M [00:00<?, ?B/s]"
      ]
     },
     "metadata": {},
     "output_type": "display_data"
    },
    {
     "data": {
      "application/vnd.jupyter.widget-view+json": {
       "model_id": "cda9c6ef72a441ca91bc5c0e713bd877",
       "version_major": 2,
       "version_minor": 0
      },
      "text/plain": [
       "Downloading:   0%|          | 0.00/685 [00:00<?, ?B/s]"
      ]
     },
     "metadata": {},
     "output_type": "display_data"
    },
    {
     "data": {
      "application/vnd.jupyter.widget-view+json": {
       "model_id": "009d33ab8ed34b5a82c3f95959d66c6a",
       "version_major": 2,
       "version_minor": 0
      },
      "text/plain": [
       "Downloading:   0%|          | 0.00/71.5M [00:00<?, ?B/s]"
      ]
     },
     "metadata": {},
     "output_type": "display_data"
    }
   ],
   "source": [
    "model_nm = 'albert-large-v1'\n",
    "tokenizer = AlbertTokenizer.from_pretrained(model_nm)\n",
    "model = AlbertModel.from_pretrained(model_nm)\n",
    "input_ids = torch.tensor(tokenizer.encode(\"Hello, my dog is cute\", add_special_tokens=True)).unsqueeze(0)  # Batch size 1\n",
    "outputs = model(input_ids)\n",
    "last_hidden_states = outputs[0]"
   ]
  },
  {
   "cell_type": "code",
   "execution_count": 8,
   "id": "574fcbfa",
   "metadata": {},
   "outputs": [],
   "source": [
    "emb_output = model.embeddings(input_ids)"
   ]
  },
  {
   "cell_type": "code",
   "execution_count": 9,
   "id": "ca9ca93d",
   "metadata": {},
   "outputs": [],
   "source": [
    "attention_mask = torch.ones(input_ids.shape)\n",
    "extended_attention_mask = attention_mask.unsqueeze(1).unsqueeze(2)\n",
    "extended_attention_mask = extended_attention_mask.to(dtype=torch.float32)  # fp16 compatibility\n",
    "extended_attention_mask = (1.0 - extended_attention_mask) * -10000.0"
   ]
  },
  {
   "cell_type": "code",
   "execution_count": 10,
   "id": "ffaab8f0",
   "metadata": {},
   "outputs": [],
   "source": [
    "n_layers = model.encoder.config.num_hidden_layers\n",
    "head_mask = [None] * n_layers"
   ]
  },
  {
   "cell_type": "code",
   "execution_count": 11,
   "id": "15ce0d0f",
   "metadata": {},
   "outputs": [],
   "source": [
    "#trans = model.encoder(emb_output, extended_attention_mask, head_mask)"
   ]
  },
  {
   "cell_type": "code",
   "execution_count": 12,
   "id": "1621174a",
   "metadata": {},
   "outputs": [
    {
     "name": "stdout",
     "output_type": "stream",
     "text": [
      "0 torch.Size([1, 8, 1024]) torch.Size([1, 8, 1024]) torch.Size([1, 8, 1024]) tensor(39.1129, grad_fn=<DistBackward>)\n",
      "1 torch.Size([1, 8, 1024]) torch.Size([1, 8, 1024]) torch.Size([1, 8, 1024]) tensor(20.0344, grad_fn=<DistBackward>)\n",
      "2 torch.Size([1, 8, 1024]) torch.Size([1, 8, 1024]) torch.Size([1, 8, 1024]) tensor(16.1824, grad_fn=<DistBackward>)\n",
      "3 torch.Size([1, 8, 1024]) torch.Size([1, 8, 1024]) torch.Size([1, 8, 1024]) tensor(12.3042, grad_fn=<DistBackward>)\n",
      "4 torch.Size([1, 8, 1024]) torch.Size([1, 8, 1024]) torch.Size([1, 8, 1024]) tensor(9.8303, grad_fn=<DistBackward>)\n",
      "5 torch.Size([1, 8, 1024]) torch.Size([1, 8, 1024]) torch.Size([1, 8, 1024]) tensor(7.6768, grad_fn=<DistBackward>)\n",
      "6 torch.Size([1, 8, 1024]) torch.Size([1, 8, 1024]) torch.Size([1, 8, 1024]) tensor(6.3892, grad_fn=<DistBackward>)\n",
      "7 torch.Size([1, 8, 1024]) torch.Size([1, 8, 1024]) torch.Size([1, 8, 1024]) tensor(5.5773, grad_fn=<DistBackward>)\n",
      "8 torch.Size([1, 8, 1024]) torch.Size([1, 8, 1024]) torch.Size([1, 8, 1024]) tensor(5.1350, grad_fn=<DistBackward>)\n",
      "9 torch.Size([1, 8, 1024]) torch.Size([1, 8, 1024]) torch.Size([1, 8, 1024]) tensor(4.7566, grad_fn=<DistBackward>)\n",
      "10 torch.Size([1, 8, 1024]) torch.Size([1, 8, 1024]) torch.Size([1, 8, 1024]) tensor(4.5074, grad_fn=<DistBackward>)\n",
      "11 torch.Size([1, 8, 1024]) torch.Size([1, 8, 1024]) torch.Size([1, 8, 1024]) tensor(4.4292, grad_fn=<DistBackward>)\n",
      "12 torch.Size([1, 8, 1024]) torch.Size([1, 8, 1024]) torch.Size([1, 8, 1024]) tensor(4.4068, grad_fn=<DistBackward>)\n",
      "13 torch.Size([1, 8, 1024]) torch.Size([1, 8, 1024]) torch.Size([1, 8, 1024]) tensor(4.3860, grad_fn=<DistBackward>)\n",
      "14 torch.Size([1, 8, 1024]) torch.Size([1, 8, 1024]) torch.Size([1, 8, 1024]) tensor(4.3405, grad_fn=<DistBackward>)\n",
      "15 torch.Size([1, 8, 1024]) torch.Size([1, 8, 1024]) torch.Size([1, 8, 1024]) tensor(4.2796, grad_fn=<DistBackward>)\n",
      "16 torch.Size([1, 8, 1024]) torch.Size([1, 8, 1024]) torch.Size([1, 8, 1024]) tensor(4.3363, grad_fn=<DistBackward>)\n",
      "17 torch.Size([1, 8, 1024]) torch.Size([1, 8, 1024]) torch.Size([1, 8, 1024]) tensor(4.4994, grad_fn=<DistBackward>)\n",
      "18 torch.Size([1, 8, 1024]) torch.Size([1, 8, 1024]) torch.Size([1, 8, 1024]) tensor(4.8434, grad_fn=<DistBackward>)\n",
      "19 torch.Size([1, 8, 1024]) torch.Size([1, 8, 1024]) torch.Size([1, 8, 1024]) tensor(5.4376, grad_fn=<DistBackward>)\n",
      "20 torch.Size([1, 8, 1024]) torch.Size([1, 8, 1024]) torch.Size([1, 8, 1024]) tensor(6.2162, grad_fn=<DistBackward>)\n",
      "21 torch.Size([1, 8, 1024]) torch.Size([1, 8, 1024]) torch.Size([1, 8, 1024]) tensor(7.0187, grad_fn=<DistBackward>)\n",
      "22 torch.Size([1, 8, 1024]) torch.Size([1, 8, 1024]) torch.Size([1, 8, 1024]) tensor(7.5305, grad_fn=<DistBackward>)\n",
      "23 torch.Size([1, 8, 1024]) torch.Size([1, 8, 1024]) torch.Size([1, 8, 1024]) tensor(7.4768, grad_fn=<DistBackward>)\n"
     ]
    }
   ],
   "source": [
    "hidden_states = model.encoder.embedding_hidden_mapping_in(emb_output)\n",
    "dist = torch.nn.CosineSimilarity(dim=1, eps=1e-6)\n",
    "distance_list = []\n",
    "for i in range(n_layers):\n",
    "    input_embedding = hidden_states#.view(-1, 8*768)\n",
    "    layer_out = model.encoder.albert_layer_groups[0](\n",
    "        hidden_states,\n",
    "        extended_attention_mask,\n",
    "        head_mask[0*n_layers:(0+1)*n_layers]\n",
    "    )\n",
    "    hidden_states = layer_out[0]\n",
    "    output_embedding = hidden_states\n",
    "    \n",
    "    distance = torch.dist(input_embedding, output_embedding, p=2)\n",
    "    print(i, hidden_states.shape, input_embedding.shape, output_embedding.shape, distance)\n",
    "    distance_list.append(distance)"
   ]
  },
  {
   "cell_type": "code",
   "execution_count": 13,
   "id": "6a39dd81",
   "metadata": {},
   "outputs": [
    {
     "data": {
      "image/png": "[encoded data removed]",
      "text/plain": [
       "<Figure size 432x288 with 1 Axes>"
      ]
     },
     "metadata": {
      "needs_background": "light"
     },
     "output_type": "display_data"
    }
   ],
   "source": [
    "import matplotlib.pyplot as plt\n",
    "plt.plot(distance_list)\n",
    "plt.show()"
   ]
  },
  {
   "cell_type": "code",
   "execution_count": null,
   "id": "b01fab33",
   "metadata": {},
   "outputs": [],
   "source": []
  },
  {
   "cell_type": "code",
   "execution_count": null,
   "id": "6eb3f9e1",
   "metadata": {},
   "outputs": [],
   "source": []
  }
 ],
 "metadata": {
  "kernelspec": {
   "display_name": "env_pub",
   "language": "python",
   "name": "env_pub"
  },
  "language_info": {
   "codemirror_mode": {
    "name": "ipython",
    "version": 3
   },
   "file_extension": ".py",
   "mimetype": "text/x-python",
   "name": "python",
   "nbconvert_exporter": "python",
   "pygments_lexer": "ipython3",
   "version": "3.6.9"
  }
 },
 "nbformat": 4,
 "nbformat_minor": 5
}
